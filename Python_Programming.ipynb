{
  "nbformat": 4,
  "nbformat_minor": 0,
  "metadata": {
    "colab": {
      "provenance": []
    },
    "kernelspec": {
      "name": "python3",
      "display_name": "Python 3"
    },
    "language_info": {
      "name": "python"
    }
  },
  "cells": [
    {
      "cell_type": "markdown",
      "source": [
        "**Challenges - Basics**"
      ],
      "metadata": {
        "id": "XGVRqieGymQ2"
      }
    },
    {
      "cell_type": "code",
      "source": [
        "# Problem 1\n",
        "first_name = input(\"Kindly enter your first name: \")\n",
        "first_name"
      ],
      "metadata": {
        "colab": {
          "base_uri": "https://localhost:8080/",
          "height": 53
        },
        "id": "NtVmWXSWaTzJ",
        "outputId": "e5f56f70-0f76-4366-b5c2-49e734223da7"
      },
      "execution_count": null,
      "outputs": [
        {
          "name": "stdout",
          "output_type": "stream",
          "text": [
            "Hello, kindly enter your first name: Jessica\n"
          ]
        },
        {
          "output_type": "execute_result",
          "data": {
            "text/plain": [
              "'Jessica'"
            ],
            "application/vnd.google.colaboratory.intrinsic+json": {
              "type": "string"
            }
          },
          "metadata": {},
          "execution_count": 4
        }
      ]
    },
    {
      "cell_type": "code",
      "source": [
        "# Problem 2\n",
        "surname = input(\"Kindly enter your surname:\")\n",
        "print(f\"Hello {first_name} {surname}\")"
      ],
      "metadata": {
        "colab": {
          "base_uri": "https://localhost:8080/"
        },
        "id": "kXOEHMCnamdk",
        "outputId": "5d43a2d0-3739-4a08-bcaf-a1a25e16c4de"
      },
      "execution_count": null,
      "outputs": [
        {
          "output_type": "stream",
          "name": "stdout",
          "text": [
            "Kindly enter your surname:Oparebea\n",
            "Hello Jessica Oparebea\n"
          ]
        }
      ]
    },
    {
      "cell_type": "code",
      "source": [
        "# Problem 3\n",
        "print(\"What do you call a bear without a tooth?\\n A gummy bear\")"
      ],
      "metadata": {
        "colab": {
          "base_uri": "https://localhost:8080/"
        },
        "id": "2_SxihRJbI9x",
        "outputId": "6c9f6f5d-2116-4495-c744-a3abc33d3f11"
      },
      "execution_count": null,
      "outputs": [
        {
          "output_type": "stream",
          "name": "stdout",
          "text": [
            "What do you call a bear without a tooth?\n",
            " A gummy bear\n"
          ]
        }
      ]
    },
    {
      "cell_type": "code",
      "source": [
        "# Problem 4\n",
        "user_input = int(input(\"Kindly input your first number: \"))\n",
        "user_input1 = int(input(\"Kindly input your second number: \"))\n",
        "total = user_input + user_input1\n",
        "print(f\"The total is: {total}\")"
      ],
      "metadata": {
        "colab": {
          "base_uri": "https://localhost:8080/"
        },
        "id": "w-iVp14VdLkA",
        "outputId": "0b65dfc2-ad0e-4f9b-a1e4-b14931a41f3b"
      },
      "execution_count": null,
      "outputs": [
        {
          "output_type": "stream",
          "name": "stdout",
          "text": [
            "Kindly input your first number: 5\n",
            "Kindly input your second number: 5\n",
            "The total is: 10\n"
          ]
        }
      ]
    },
    {
      "cell_type": "code",
      "source": [
        "# Problem 5\n",
        "pizza = int(input(\"How many slices of pizza did you start with?\\nKindly enter your answer:\"))\n",
        "pizza1 = int(input(\"How many slices of pizza have you eaten?\\nKindly enter your answer:\"))\n",
        "total = pizza - pizza1\n",
        "print(f\"Voila!!\\nYou have {total} pieces of pizza left. Do enjoy!\")"
      ],
      "metadata": {
        "colab": {
          "base_uri": "https://localhost:8080/"
        },
        "id": "EZgncL_HdvhG",
        "outputId": "e5b8cc16-78eb-4091-8eca-470987f61bb4"
      },
      "execution_count": null,
      "outputs": [
        {
          "output_type": "stream",
          "name": "stdout",
          "text": [
            "How many slices of pizza did you start with?\n",
            "Kindly enter your answer:20\n",
            "How many slices of pizza have you eaten?\n",
            "Kindly enter your answer:10\n",
            "Voila!!\n",
            "You have 10 pieces of pizza left. Do enjoy!\n"
          ]
        }
      ]
    },
    {
      "cell_type": "markdown",
      "source": [
        "**Challenges - If Staements**"
      ],
      "metadata": {
        "id": "Fu9fQa4Qhq-h"
      }
    },
    {
      "cell_type": "code",
      "source": [
        "# Problem 1\n",
        "print(\"Hello there, kindly enter two numbers.\")\n",
        "No_1 = int(input(\"Kindly input first number:\"))\n",
        "No_2 = int(input(\"Kindly input second number:\"))\n",
        "if No_2 > No_1:\n",
        "  print(No_2, No_1)\n",
        "else:\n",
        "  print(No_1, No_2)\n"
      ],
      "metadata": {
        "colab": {
          "base_uri": "https://localhost:8080/"
        },
        "id": "SK1BfO6RgbsF",
        "outputId": "71542d1c-008e-4246-da9c-3bcb7b8db28a"
      },
      "execution_count": null,
      "outputs": [
        {
          "output_type": "stream",
          "name": "stdout",
          "text": [
            "Hello there, kimdly enter two numbers.\n",
            "Kindly input first number:23\n",
            "Kindly input second number:12\n",
            "23 12\n"
          ]
        }
      ]
    },
    {
      "cell_type": "code",
      "source": [
        "# Problem 2\n",
        "print(\"Hello there, kindly enter a number below 20\")\n",
        "No_1 = int(input(\"Kindly input number:\"))\n",
        "if No_1 > 20 or No_1 == 20:\n",
        "  print(\"Too high\")\n",
        "else:\n",
        "  print(\"Thank You!\")"
      ],
      "metadata": {
        "colab": {
          "base_uri": "https://localhost:8080/"
        },
        "id": "h82pQ2d4mu5A",
        "outputId": "7ba6c431-3af9-4c47-9653-a713e6dd427d"
      },
      "execution_count": null,
      "outputs": [
        {
          "output_type": "stream",
          "name": "stdout",
          "text": [
            "Hello there, kindly enter a number below 20\n",
            "Kindly input number:19\n",
            "Thank You!\n"
          ]
        }
      ]
    },
    {
      "cell_type": "code",
      "source": [
        "# Problem 3\n",
        "print(\"Hello there, kindly enter a number between 10 and 20 inclusive\")\n",
        "No_1 = int(input(\"Kindly input number:\"))\n",
        "if No_1 < 10 or No_1 > 20:\n",
        "  print(\"Incorrect message\")\n",
        "else:\n",
        "  print(\"Thank You!\")"
      ],
      "metadata": {
        "colab": {
          "base_uri": "https://localhost:8080/"
        },
        "id": "MZKXuJiunZcQ",
        "outputId": "7a52aac9-8504-4d96-d484-34d24231507d"
      },
      "execution_count": null,
      "outputs": [
        {
          "output_type": "stream",
          "name": "stdout",
          "text": [
            "Hello there, kindly enter a number between 10 and 20 inclusive\n",
            "Kindly input number:2\n",
            "Incorrect message\n"
          ]
        }
      ]
    },
    {
      "cell_type": "code",
      "source": [
        "# Problem 3\n",
        "print(\"Hello there, kindly enter your favorite color\")\n",
        "fav = input(\"My favourite color is: \")\n",
        "if fav == \"red\" or fav == \"Red\" or fav == \"RED\":\n",
        "  print(f\"I like {fav} too\")\n",
        "else:\n",
        "  print(f\"I do not like {fav}, I prefer red.\")"
      ],
      "metadata": {
        "colab": {
          "base_uri": "https://localhost:8080/"
        },
        "id": "51fmBVAOoH96",
        "outputId": "7fcc3854-ca57-49aa-c242-05e802e5aa9a"
      },
      "execution_count": null,
      "outputs": [
        {
          "output_type": "stream",
          "name": "stdout",
          "text": [
            "Hello there, kindly enter your favorite color\n",
            "My favourite color is: green\n",
            "I do not like green, I prefer red.\n"
          ]
        }
      ]
    },
    {
      "cell_type": "code",
      "source": [
        "# Problem 4\n",
        "rain = input(\"Is it raining?\\nKindly enter Yes or No:\")\n",
        "rain = str.lower(rain)\n",
        "if rain == \"yes\":\n",
        "  windy = input(\"Is it windy?\\nKindly enter yes or no: \")\n",
        "  windy = str.lower(windy)\n",
        "  if windy == \"yes\":\n",
        "       print(\"It is too windy for an umbrella\")\n",
        "  else:\n",
        "      print(\"Kindly take an umbrella\")\n",
        "else:\n",
        "     print(\"Enjoy your day, buddy\")\n"
      ],
      "metadata": {
        "colab": {
          "base_uri": "https://localhost:8080/"
        },
        "id": "JS4gY8QgpUkl",
        "outputId": "053232b7-db32-4522-8f38-db3da19653dc"
      },
      "execution_count": null,
      "outputs": [
        {
          "output_type": "stream",
          "name": "stdout",
          "text": [
            "Is it raining?\n",
            "Kindly enter Yes or No:YES\n",
            "Is it windy?\n",
            "Kindly enter yes or no: NO\n",
            "Kindly take an umbrella\n"
          ]
        }
      ]
    },
    {
      "cell_type": "code",
      "source": [
        "# Problem 5\n",
        "User = int(input(\"Kindly enter your age:\"))\n",
        "if User >= 18:\n",
        "  print(\"You can vote, Hurray!\")\n",
        "elif User == 17:\n",
        "  print(\"You can learn driving, Amazing!\")\n",
        "elif User == 16:\n",
        "  print(\"You can buy a lottery ticket\")\n",
        "else:\n",
        "  print(\"You can go Trick-or-Treating\")"
      ],
      "metadata": {
        "colab": {
          "base_uri": "https://localhost:8080/"
        },
        "id": "UvacfMLSsW7f",
        "outputId": "2072b4da-455d-431f-cf63-03fd5ed2467e"
      },
      "execution_count": null,
      "outputs": [
        {
          "output_type": "stream",
          "name": "stdout",
          "text": [
            "Kindly enter your age:24\n",
            "You can vote, Hurray!\n"
          ]
        }
      ]
    },
    {
      "cell_type": "markdown",
      "source": [
        "**Challenges - Strings**"
      ],
      "metadata": {
        "id": "tmUlZx2Ow-Dg"
      }
    },
    {
      "cell_type": "code",
      "source": [
        "# Problem 1\n",
        "name = input(\"Kindly enter your first name:\")\n",
        "name = len(name)\n",
        "name"
      ],
      "metadata": {
        "colab": {
          "base_uri": "https://localhost:8080/"
        },
        "id": "vilmaszTw1TL",
        "outputId": "a6612378-be92-480e-e7a5-bf77274ebfe6"
      },
      "execution_count": null,
      "outputs": [
        {
          "name": "stdout",
          "output_type": "stream",
          "text": [
            "Kindly enter your first name:Rhodaline\n"
          ]
        },
        {
          "output_type": "execute_result",
          "data": {
            "text/plain": [
              "9"
            ]
          },
          "metadata": {},
          "execution_count": 32
        }
      ]
    },
    {
      "cell_type": "code",
      "source": [
        "# Problem 2\n",
        "nam_1 = input(\"Enter your first name:\")\n",
        "nam_2 = input(\"Enter your second name:\")\n",
        "print(f\"Your name is {nam_1} {nam_2}\")\n",
        "name = nam_1+nam_2\n",
        "name = len(name)\n",
        "name\n"
      ],
      "metadata": {
        "colab": {
          "base_uri": "https://localhost:8080/"
        },
        "id": "SBCJ0NPry5NX",
        "outputId": "5b832454-4dd2-408a-b701-3ce93cbbd255"
      },
      "execution_count": null,
      "outputs": [
        {
          "output_type": "stream",
          "name": "stdout",
          "text": [
            "Enter your first name:Stephanie\n",
            "Enter your second name:Ayisibea\n",
            "Your name is Stephanie Ayisibea\n"
          ]
        },
        {
          "output_type": "execute_result",
          "data": {
            "text/plain": [
              "17"
            ]
          },
          "metadata": {},
          "execution_count": 34
        }
      ]
    },
    {
      "cell_type": "code",
      "source": [
        "# Problem 3\n",
        "nam_1 = input(\"Enter your first name in lowercase:\")\n",
        "nam_2 = input(\"Enter your second name in lowercase:\")\n",
        "name = nam_1+nam_2\n",
        "name = name.title()\n",
        "name\n"
      ],
      "metadata": {
        "colab": {
          "base_uri": "https://localhost:8080/",
          "height": 70
        },
        "id": "Wt-YydpZzyL_",
        "outputId": "6cf8187c-7b60-4f25-9271-3d0dc2b60a9c"
      },
      "execution_count": null,
      "outputs": [
        {
          "name": "stdout",
          "output_type": "stream",
          "text": [
            "Enter your first name in lowercase:rod\n",
            "Enter your second name in lowercase:appiah\n"
          ]
        },
        {
          "output_type": "execute_result",
          "data": {
            "text/plain": [
              "'Rodappiah'"
            ],
            "application/vnd.google.colaboratory.intrinsic+json": {
              "type": "string"
            }
          },
          "metadata": {},
          "execution_count": 36
        }
      ]
    },
    {
      "cell_type": "code",
      "source": [
        "# Problem 4\n",
        "user = input(\"Type the first line of a nursery rhyme:\")\n",
        "length = len(user)\n",
        "print(f\"Your name has a length of {length}\")\n",
        "start = int(input(\"Starting number:\"))\n",
        "end = int(input(\"Ending number:\"))\n",
        "part = (user[start:end])\n",
        "part\n"
      ],
      "metadata": {
        "colab": {
          "base_uri": "https://localhost:8080/",
          "height": 105
        },
        "id": "KO7ux5Lr0zsl",
        "outputId": "f54fdf4b-6ddd-41d8-97ab-a25c935d53f4"
      },
      "execution_count": null,
      "outputs": [
        {
          "name": "stdout",
          "output_type": "stream",
          "text": [
            "Type the first line of a nursery rhyme:A lion has a tail\n",
            "Your name has a length of 17\n",
            "Starting number:7\n",
            "Ending number:25\n"
          ]
        },
        {
          "output_type": "execute_result",
          "data": {
            "text/plain": [
              "'has a tail'"
            ],
            "application/vnd.google.colaboratory.intrinsic+json": {
              "type": "string"
            }
          },
          "metadata": {},
          "execution_count": 41
        }
      ]
    },
    {
      "cell_type": "code",
      "source": [
        "# Problem 5\n",
        "nam_1 = input(\"Enter your first name:\")\n",
        "if len(nam_1) < 5:\n",
        "  nam_2 = input(\"Enter your second name:\")\n",
        "  name= (nam_1+nam_2)\n",
        "  name = name.upper()\n",
        "  print(name)\n",
        "else:\n",
        "  print(nam_1.lower())"
      ],
      "metadata": {
        "colab": {
          "base_uri": "https://localhost:8080/"
        },
        "id": "plBF24lg2k2v",
        "outputId": "83a36975-be29-40f7-d2fb-62514a5a60e9"
      },
      "execution_count": null,
      "outputs": [
        {
          "output_type": "stream",
          "name": "stdout",
          "text": [
            "Enter your first name:Jessica\n",
            "jessica\n"
          ]
        }
      ]
    },
    {
      "cell_type": "code",
      "source": [
        "# Problem 6\n",
        "\"\"\"\n",
        "Pig Latin takes the first consonant of a word,moves it to the end of the word and adds on an\n",
        "“ay”. If a word begins with a vowel you just add\n",
        "“way” to the end. For example, pig becomes igpay,\n",
        "banana becomes ananabay, and aadvark becomes\n",
        "aadvarkway. Create a program that will ask the\n",
        "user to enter a word and change it into Pig Latin.\n",
        "Make sure the new word is displayed in lower case.\n",
        "\n",
        "\"\"\"\n",
        "word = input(\"Kindly enter your word: \")\n",
        "word = word.lower()\n",
        "first = word[0]\n",
        "length = len(word)\n",
        "last = word[1:length]\n",
        "if first != \"a\" and first != \"e\" and first != \"i\" and first != \"o\" and first != \"u\":\n",
        "  new = last + first + \"ay\"\n",
        "else:\n",
        "  new = word + \"way\"\n",
        "print(new)"
      ],
      "metadata": {
        "colab": {
          "base_uri": "https://localhost:8080/"
        },
        "id": "W-1KKPr05Thq",
        "outputId": "4b45b8ae-027e-480f-c3e0-d5e5c1790635"
      },
      "execution_count": null,
      "outputs": [
        {
          "output_type": "stream",
          "name": "stdout",
          "text": [
            "Kindly enter your word: APPLES\n",
            "applesway\n"
          ]
        }
      ]
    },
    {
      "cell_type": "markdown",
      "source": [
        "**Challenges - Maths**"
      ],
      "metadata": {
        "id": "Jdw32DHP942b"
      }
    },
    {
      "cell_type": "code",
      "source": [
        "# Problem 1\n",
        "user = float(input(\"Enter a decimal number:\"))\n",
        "num = user * 2\n",
        "num"
      ],
      "metadata": {
        "colab": {
          "base_uri": "https://localhost:8080/"
        },
        "id": "JHyoBcHH8hQh",
        "outputId": "5351c66f-0f99-4dbe-deab-9f7bb5dec548"
      },
      "execution_count": null,
      "outputs": [
        {
          "name": "stdout",
          "output_type": "stream",
          "text": [
            "Enter a decimal number:4.5\n"
          ]
        },
        {
          "output_type": "execute_result",
          "data": {
            "text/plain": [
              "9.0"
            ]
          },
          "metadata": {},
          "execution_count": 48
        }
      ]
    },
    {
      "cell_type": "code",
      "source": [
        "# Problem 2\n",
        "import math\n",
        "from string import Template\n",
        "radius_of_cylinder = int(input(\"Enter the radius of the cylinder:\"))\n",
        "depth_of_cylinder = int(input(\"Enter the depth of the cylinder:\"))\n",
        "total_volume = (math.pi)*(radius_of_cylinder**2)*(depth_of_cylinder)\n",
        "total_volume = round(total_volume,3)\n",
        "t = Template (\"The Total Volume of the cylinder is $total_volume\")\n",
        "t.substitute(total_volume = total_volume)\n",
        "\n",
        "\n"
      ],
      "metadata": {
        "id": "D3n4nosd_zFZ",
        "colab": {
          "base_uri": "https://localhost:8080/",
          "height": 70
        },
        "outputId": "7326ca34-fe5e-4bf3-e64d-95ed97ab46ca"
      },
      "execution_count": null,
      "outputs": [
        {
          "name": "stdout",
          "output_type": "stream",
          "text": [
            "Enter the radius of the cylinder:6\n",
            "Enter the depth of the cylinder:9\n"
          ]
        },
        {
          "output_type": "execute_result",
          "data": {
            "text/plain": [
              "'The Total Volume of the cylinder is 1017.876'"
            ],
            "application/vnd.google.colaboratory.intrinsic+json": {
              "type": "string"
            }
          },
          "metadata": {},
          "execution_count": 2
        }
      ]
    },
    {
      "cell_type": "code",
      "source": [
        "# Problem 3\n",
        "\"\"\"\n",
        "Ask the user to enter two numbers.\n",
        "Use whole number division to divide\n",
        "the first number by the second and\n",
        "also work out the remainder and\n",
        "display the answer in a user-friendly\n",
        "way (e.g. if they enter 7 and 2 display\n",
        "“7 divided by 2 is 3 with 1\n",
        "remaining”).\n",
        "\"\"\"\n",
        "print(\"Hey Buddy, are you ready to do some maths?\\nIf yes go ahead and enter two numbers!\")\n",
        "num_1 = int(input(\"Kindly enter a number: \"))\n",
        "num_2 = int(input(\"Kindly enter a number: \"))\n",
        "a = num_1//num_2\n",
        "b = num_1%num_2\n",
        "t = Template( \"$num_1 divided by $num_2 is $a remainder $b\" )\n",
        "t.substitute(num_1 = num_1, num_2 = num_2, a = a, b = b)"
      ],
      "metadata": {
        "colab": {
          "base_uri": "https://localhost:8080/",
          "height": 105
        },
        "id": "MpF7Bk1J4-y0",
        "outputId": "8988939c-522e-4bd1-bd71-caaddac9e154"
      },
      "execution_count": null,
      "outputs": [
        {
          "name": "stdout",
          "output_type": "stream",
          "text": [
            "Hey Buddy, are you ready to do some maths?\n",
            "If yes go ahead and enter two numbers!\n",
            "Kindly enter a number: 5\n",
            "Kindly enter a number: 8\n"
          ]
        },
        {
          "output_type": "execute_result",
          "data": {
            "text/plain": [
              "'5 divided by 8 is 0 remainder 5'"
            ],
            "application/vnd.google.colaboratory.intrinsic+json": {
              "type": "string"
            }
          },
          "metadata": {},
          "execution_count": 11
        }
      ]
    },
    {
      "cell_type": "code",
      "source": [
        "# Problem 4\n",
        "\"\"\"\"\n",
        "Display the following message:\n",
        "If the user enters 1, then it should ask them for\n",
        "the length of one of its sides and display the\n",
        "area. If they select 2, it should ask for the base\n",
        "and height of the triangle and display the area. If\n",
        "they type in anything else, it should give them a\n",
        "suitable error message.\n",
        "\n",
        "\"\"\"\n",
        "print(\"1. Square\")\n",
        "print(\"2. Traingle\")\n",
        "print()\n",
        "user = int(input(\"Enter a number:\"))\n",
        "if user == 1:\n",
        "     length = int(input(\"Enter the length of the sqaure:\"))\n",
        "     area = length*length\n",
        "     t = Template(\"The area of the sqaure is $area\")\n",
        "     t.substitute(area =area)\n",
        "elif user == 2:\n",
        "     base = int(input(\"Enter the base of the traingle:\"))\n",
        "     height = int(input(\"Enter the height of the traingle:\"))\n",
        "     area = (base*height)/2\n",
        "     t = Template(\"The area of the triangle is $area\")\n",
        "     t.substitute(area = area)\n",
        "else:\n",
        "  print(\"Incorrect input\")"
      ],
      "metadata": {
        "colab": {
          "base_uri": "https://localhost:8080/"
        },
        "id": "mYBzgzYP6tVV",
        "outputId": "8d9eac92-8c0b-488d-c4b1-fc0ea330f87e"
      },
      "execution_count": null,
      "outputs": [
        {
          "output_type": "stream",
          "name": "stdout",
          "text": [
            "1. Square\n",
            "2. Traingle\n",
            "\n",
            "Enter a number:3\n",
            "Incorrect input\n"
          ]
        }
      ]
    },
    {
      "cell_type": "markdown",
      "source": [
        "**Challenge - For Loop**"
      ],
      "metadata": {
        "id": "OlEriOrDBA4-"
      }
    },
    {
      "cell_type": "code",
      "source": [
        "# Problem 1\n",
        "\"\"\"Ask the user to enter\n",
        "their name and then\n",
        "display their name\n",
        "three times. \"\"\"\n",
        "name =input(\"Enter your name: \")\n",
        "for i in range(0, 3):\n",
        "     print(name)"
      ],
      "metadata": {
        "id": "erRFuvXXA3o5"
      },
      "execution_count": null,
      "outputs": []
    },
    {
      "cell_type": "code",
      "source": [
        "# Problem 2\n",
        "\"\"\"\n",
        "Alter program 1 so that it will ask the user to enter their\n",
        "name and a number and then display their name that\n",
        "number of times.\n",
        "\"\"\"\n",
        "name =input(\"Enter your name: \")\n",
        "num = int(input(\"Enter a number: \"))\n",
        "for _ in range(0,num):\n",
        "     print(name)"
      ],
      "metadata": {
        "colab": {
          "base_uri": "https://localhost:8080/"
        },
        "id": "TgrMvUKICyke",
        "outputId": "62bfa917-3ff7-43c3-a46a-d80f4d6ccee6"
      },
      "execution_count": null,
      "outputs": [
        {
          "output_type": "stream",
          "name": "stdout",
          "text": [
            "Enter your name: Jessie\n",
            "Enter a number: 6\n",
            "Jessie\n",
            "Jessie\n",
            "Jessie\n",
            "Jessie\n",
            "Jessie\n",
            "Jessie\n"
          ]
        }
      ]
    },
    {
      "cell_type": "code",
      "source": [
        "# Problem 3\n",
        "\"\"\"\n",
        "Ask the user to enter their name and display each letter in\n",
        "their name on a separate line.\n",
        "\"\"\"\n",
        "name =input(\"Enter your name: \")\n",
        "for _ in name :\n",
        "  print(_)"
      ],
      "metadata": {
        "colab": {
          "base_uri": "https://localhost:8080/"
        },
        "id": "QOVM4o4EDoVa",
        "outputId": "da95154c-d9d1-4a19-8bba-210458da3dd6"
      },
      "execution_count": null,
      "outputs": [
        {
          "output_type": "stream",
          "name": "stdout",
          "text": [
            "Enter your name: Rod\n",
            "R\n",
            "o\n",
            "d\n"
          ]
        }
      ]
    },
    {
      "cell_type": "code",
      "source": [
        "# Problem 4\n",
        "\"\"\"\n",
        "Change program\n",
        "3 to also ask for a\n",
        "number. Display\n",
        "their name (one\n",
        "letter at a time on\n",
        "each line) and\n",
        "repeat this for the\n",
        "number of times\n",
        "they entered.\n",
        "\"\"\"\n",
        "name =input(\"Enter your name: \")\n",
        "num = int(input(\"Enter a number: \"))\n",
        "for x in range(0,num):\n",
        "  for i in name:\n",
        "    print(i)"
      ],
      "metadata": {
        "colab": {
          "base_uri": "https://localhost:8080/"
        },
        "id": "USQd_pW1ERNa",
        "outputId": "82a31d44-1316-43a3-9a8c-dae5a60f9f52"
      },
      "execution_count": null,
      "outputs": [
        {
          "output_type": "stream",
          "name": "stdout",
          "text": [
            "Enter your name: Akos\n",
            "Enter a number: 5\n",
            "A\n",
            "k\n",
            "o\n",
            "s\n",
            "A\n",
            "k\n",
            "o\n",
            "s\n",
            "A\n",
            "k\n",
            "o\n",
            "s\n",
            "A\n",
            "k\n",
            "o\n",
            "s\n",
            "A\n",
            "k\n",
            "o\n",
            "s\n"
          ]
        }
      ]
    },
    {
      "cell_type": "code",
      "source": [
        "# Problem 5\n",
        "\"\"\"\n",
        "Ask the user to enter a number between 1\n",
        "and 12 and then display the times table for\n",
        "that number.\n",
        "\"\"\"\n",
        "user = int(input(\"Enter a number between 1 and 12: \"))\n",
        "for i in range(1, 13):\n",
        "  ans = i * user\n",
        "  print(i, \"X\", num, \"=\", ans)"
      ],
      "metadata": {
        "colab": {
          "base_uri": "https://localhost:8080/"
        },
        "id": "tf-G2JpME8_b",
        "outputId": "769ff6f1-2924-4604-ef2e-fb84d65e6d8f"
      },
      "execution_count": null,
      "outputs": [
        {
          "output_type": "stream",
          "name": "stdout",
          "text": [
            "Enter a number between 1 and 12: 5\n",
            "1 X 5 = 5\n",
            "2 X 5 = 10\n",
            "3 X 5 = 15\n",
            "4 X 5 = 20\n",
            "5 X 5 = 25\n",
            "6 X 5 = 30\n",
            "7 X 5 = 35\n",
            "8 X 5 = 40\n",
            "9 X 5 = 45\n",
            "10 X 5 = 50\n",
            "11 X 5 = 55\n",
            "12 X 5 = 60\n"
          ]
        }
      ]
    },
    {
      "cell_type": "code",
      "source": [
        "# Problem 6\n",
        "\"\"\"\n",
        "Ask for a number below 50 and then count down from\n",
        "50 to that number, making sure you show the number\n",
        "they entered in the output.\n",
        "\"\"\"\n",
        "num = int(input(\"Enter a number below 50: \"))\n",
        "for i in range(50, num-1, -1):\n",
        "  print(i)"
      ],
      "metadata": {
        "colab": {
          "base_uri": "https://localhost:8080/"
        },
        "id": "QNCxRMhwKhzW",
        "outputId": "3c5ebb57-cbc4-4f60-f5ae-03015dd31e55"
      },
      "execution_count": null,
      "outputs": [
        {
          "output_type": "stream",
          "name": "stdout",
          "text": [
            "Enter a number below 50: 20\n",
            "50\n",
            "49\n",
            "48\n",
            "47\n",
            "46\n",
            "45\n",
            "44\n",
            "43\n",
            "42\n",
            "41\n",
            "40\n",
            "39\n",
            "38\n",
            "37\n",
            "36\n",
            "35\n",
            "34\n",
            "33\n",
            "32\n",
            "31\n",
            "30\n",
            "29\n",
            "28\n",
            "27\n",
            "26\n",
            "25\n",
            "24\n",
            "23\n",
            "22\n",
            "21\n",
            "20\n"
          ]
        }
      ]
    },
    {
      "cell_type": "code",
      "source": [
        "# Problem 7\n",
        "\"\"\"\n",
        "Ask the user to enter their\n",
        "name and a number. If the\n",
        "number is less than 10, then\n",
        "display their name that\n",
        "number of times; otherwise\n",
        "display the message “Too\n",
        "high” three times.\n",
        "\"\"\"\n",
        "name = input(\"Enter your name:\")\n",
        "num = int(input(\"Enter a number below 10: \"))\n",
        "if num < 10:\n",
        "     for i in range(0, num):\n",
        "          print(name)\n",
        "else:\n",
        "  for i in range(0, 3):\n",
        "         print(\"Too high\")"
      ],
      "metadata": {
        "colab": {
          "base_uri": "https://localhost:8080/"
        },
        "id": "qfi2GUDmK3Ue",
        "outputId": "daa2b2af-cdf1-41f9-dd4b-e3f802291b70"
      },
      "execution_count": null,
      "outputs": [
        {
          "output_type": "stream",
          "name": "stdout",
          "text": [
            "Enter your name:Rodney\n",
            "Enter a number below 10: 4\n",
            "Rodney\n",
            "Rodney\n",
            "Rodney\n",
            "Rodney\n"
          ]
        }
      ]
    },
    {
      "cell_type": "code",
      "source": [
        "# Problem 8\n",
        "\"\"\"\n",
        "Set a variable called total to 0. Ask the user to enter\n",
        "five numbers and after each input ask them if they\n",
        "want that number included. If they do, then add the\n",
        "number to the total. If they do not want it included,\n",
        "don’t add it to the total. After they have entered all five\n",
        "numbers, display the total.\n",
        "\"\"\"\n",
        "total = 0\n",
        "for i in range(0, 5):\n",
        "  user = int(input(\"Enter 5 numbers:\"))\n",
        "  user_1 = input('Do you want that number included? Yes or No: ')\n",
        "  user_1 = user_1.lower()\n",
        "  if user_1 == \"yes\":\n",
        "       total = total + user\n",
        "total"
      ],
      "metadata": {
        "colab": {
          "base_uri": "https://localhost:8080/"
        },
        "id": "-IJpuUZWOu4o",
        "outputId": "cf94710c-b6cd-40ae-b35d-1157c81091fa"
      },
      "execution_count": null,
      "outputs": [
        {
          "name": "stdout",
          "output_type": "stream",
          "text": [
            "Enter 5 numbers:1\n",
            "Do you want that number included? Yes or No: YES\n",
            "Enter 5 numbers:1\n",
            "Do you want that number included? Yes or No: YES\n",
            "Enter 5 numbers:1\n",
            "Do you want that number included? Yes or No: YES\n",
            "Enter 5 numbers:1\n",
            "Do you want that number included? Yes or No: YES\n",
            "Enter 5 numbers:1\n",
            "Do you want that number included? Yes or No: YES\n"
          ]
        },
        {
          "output_type": "execute_result",
          "data": {
            "text/plain": [
              "5"
            ]
          },
          "metadata": {},
          "execution_count": 34
        }
      ]
    },
    {
      "cell_type": "code",
      "source": [
        "# Problem 9\n",
        "\"\"\"\n",
        "Ask which direction the user wants to count (up or down). If they select up, then ask\n",
        "them for the top number and then count from 1 to that number. If they select down, ask\n",
        "them to enter a number below 20 and then count down from 20 to that number. If they\n",
        "entered something other than up or down, display the message “I don’t understand\n",
        "\"\"\"\n",
        "Ha = input(\"Do you want to count up or down? Type U/D: \")\n",
        "Ha = Ha.lower()\n",
        "if Ha == \"u\":\n",
        "  user1 = int(input(\"Enter a top number: \"))\n",
        "  for i in range(1, user1+1):\n",
        "    print(i)\n",
        "elif Ha == \"d\":\n",
        "  user2 = int(input(\"Enter a number below 20: \"))\n",
        "  for i in range(20, user2 -1, -1):\n",
        "    print(i)\n",
        "else:\n",
        "  print(\"I do not understand\")"
      ],
      "metadata": {
        "colab": {
          "base_uri": "https://localhost:8080/"
        },
        "id": "TrzfPkHhQnxy",
        "outputId": "875fc79a-0d98-4c75-8475-80a71a62d7b2"
      },
      "execution_count": null,
      "outputs": [
        {
          "output_type": "stream",
          "name": "stdout",
          "text": [
            "Do you want to count up or down? Type U/D: D\n",
            "Enter a number below 20: 9\n",
            "20\n",
            "19\n",
            "18\n",
            "17\n",
            "16\n",
            "15\n",
            "14\n",
            "13\n",
            "12\n",
            "11\n",
            "10\n",
            "9\n"
          ]
        }
      ]
    },
    {
      "cell_type": "code",
      "source": [
        "# Problem 10\n",
        "\"\"\"\n",
        "Ask how many people the user wants to invite to a party. If they enter a number below\n",
        "10, ask for the names and after each name display “[name] has been invited”. If they\n",
        "enter a number which is 10 or higher, display the message “Too many people\n",
        "\"\"\"\n",
        "mine = int(input(\"How many people do you want to invite to your party?: \"))\n",
        "if mine < 10:\n",
        "  for i in range (0, mine):\n",
        "       name = input(\"Enter invitees name please: \")\n",
        "       print(name, \"has been invited\")\n",
        "else:\n",
        "  print(\"too many a number\")\n"
      ],
      "metadata": {
        "colab": {
          "base_uri": "https://localhost:8080/"
        },
        "id": "B-ZooXiPT0Hp",
        "outputId": "002cd90d-ba4e-4f90-b38d-a0563f0bb0e6"
      },
      "execution_count": null,
      "outputs": [
        {
          "output_type": "stream",
          "name": "stdout",
          "text": [
            "How many people do you want to invite to your party?: 2\n",
            "Enter invitees name please: Rod\n",
            "Rod has been invited\n",
            "Enter invitees name please: Stephanie\n",
            "Stephanie has been invited\n"
          ]
        }
      ]
    },
    {
      "cell_type": "markdown",
      "source": [
        "**Challenge - WHILE LOOP**"
      ],
      "metadata": {
        "id": "GgE349FCWyx3"
      }
    },
    {
      "cell_type": "code",
      "source": [
        "# Problem 1\n",
        "\"\"\"\n",
        "Set the total to 0 to start with. While total is 50 or less, ask\n",
        "the user to input a number. Add that number to the total and\n",
        "print the message “The total is… [total]”. Stop the loop when\n",
        "the total is over 50.\n",
        "\"\"\"\n",
        "total = 0\n",
        "while total <= 50:\n",
        "  num = int(input(\"Type a number: \"))\n",
        "  total += num\n",
        "  message = Template(\"The total is $total\")\n",
        "  message.substitute(total = total)\n"
      ],
      "metadata": {
        "colab": {
          "base_uri": "https://localhost:8080/"
        },
        "id": "l01pmA3Y7fv1",
        "outputId": "acc9e842-d9c4-4106-bc5e-e1e95d430298"
      },
      "execution_count": null,
      "outputs": [
        {
          "name": "stdout",
          "output_type": "stream",
          "text": [
            "Type a number: 6\n",
            "Type a number: 2\n",
            "Type a number: 1\n",
            "Type a number: 51\n"
          ]
        }
      ]
    },
    {
      "cell_type": "code",
      "source": [
        "# Problem 2\n",
        "\"\"\"\n",
        "Ask the user to enter\n",
        "a number. Keep\n",
        "asking until they enter\n",
        "a value over 5 and\n",
        "then display the\n",
        "message “The last\n",
        "number you entered\n",
        "was a [number]” and\n",
        "stop the program.\n",
        "\"\"\"\n",
        "num = 0\n",
        "while num <= 5:\n",
        "  num = int(input(\"Type a number: \"))\n",
        "print(f\"The last number is {num}\" )\n",
        "\n"
      ],
      "metadata": {
        "colab": {
          "base_uri": "https://localhost:8080/"
        },
        "id": "wZN9YjUO8wFj",
        "outputId": "336e598c-af86-49e9-b077-30add4f42d7f"
      },
      "execution_count": null,
      "outputs": [
        {
          "output_type": "stream",
          "name": "stdout",
          "text": [
            "Type a number: 4\n",
            "Type a number: 6\n",
            "The last number is 6\n"
          ]
        }
      ]
    },
    {
      "cell_type": "code",
      "source": [
        "# Problem 3\n",
        "\"\"\"\n",
        "Ask the user to enter a\n",
        "number and then enter\n",
        "another number. Add these\n",
        "two numbers together and\n",
        "then ask if they want to add\n",
        "another number. If they\n",
        "enter “y\", ask them to enter\n",
        "another number and keep\n",
        "adding numbers until they\n",
        "do not answer “y”. Once the\n",
        "loop has stopped, display\n",
        "the total.\n",
        "\"\"\"\n",
        "num = int(input(\"Enter a number: \"))\n",
        "total = num\n",
        "again = \"yes\"\n",
        "while again == \"yes\":\n",
        "     num1 = int(input(\"Enter a number: \"))\n",
        "     total += num1\n",
        "     again = input(\"Do you want to enter another number? Yes/No: \")\n",
        "     again= again.lower()\n",
        "print(\"The total number is\", total)\n"
      ],
      "metadata": {
        "id": "gAoBxJ-_Ckny",
        "colab": {
          "base_uri": "https://localhost:8080/"
        },
        "outputId": "11f64bc4-9be0-43ed-8d9f-341b8eeef4b8"
      },
      "execution_count": null,
      "outputs": [
        {
          "output_type": "stream",
          "name": "stdout",
          "text": [
            "Enter a number: 6\n",
            "Enter a number: 7\n",
            "Do you want to enter another number? Yes/No: YES\n",
            "Enter a number: 8\n",
            "Do you want to enter another number? Yes/No: NO\n",
            "The total number is 21\n"
          ]
        }
      ]
    },
    {
      "cell_type": "code",
      "source": [
        "# Problem 4\n",
        "\"\"\"\n",
        "Ask for the name of somebody the user wants to invite\n",
        "to a party. After this, display the message “[name] has\n",
        "now been invited” and add 1 to the count. Then ask if\n",
        "they want to invite somebody else. Keep repeating this\n",
        "until they no longer want to invite anyone else to the\n",
        "party and then display how many people they have\n",
        "coming to the party.\n",
        "\"\"\"\n",
        "new_invite = \"yes\"\n",
        "count = 0\n",
        "while new_invite == \"yes\":\n",
        "     invitee = input(\"Enter name of invitee: \")\n",
        "     print(f\"{invitee} has been invited!\")\n",
        "     count += 1\n",
        "     new_invite = input(\"Do you want to invite another person?: Yes/No \")\n",
        "     new_invite = new_invite.lower()\n",
        "\n",
        "print(f\"There are {count} people coming to your party!\")\n",
        "\n"
      ],
      "metadata": {
        "colab": {
          "base_uri": "https://localhost:8080/"
        },
        "id": "2HPO35iy4yJJ",
        "outputId": "2a1420ea-b00c-4785-dd92-fba5c4742d69"
      },
      "execution_count": null,
      "outputs": [
        {
          "output_type": "stream",
          "name": "stdout",
          "text": [
            "Enter name of invitee: Lizzie\n",
            "Lizzie has been invited!\n",
            "Do you want to invite another person?: Yes/No yes\n",
            "Enter name of invitee: Steven\n",
            "Steven has been invited!\n",
            "Do you want to invite another person?: Yes/No no\n",
            "There are 2 people coming to your party!\n"
          ]
        }
      ]
    },
    {
      "cell_type": "code",
      "source": [
        "# Problem 5\n",
        "\"\"\"\n",
        "Create a variable called\n",
        "compnum and set the value\n",
        "to 50. Ask the user to enter a\n",
        "number. While their guess\n",
        "is not the same as the\n",
        "compnum value, tell them if\n",
        "their guess is too low or too\n",
        "high and ask them to have\n",
        "another guess. If they enter\n",
        "the same value as\n",
        "compnum, display the\n",
        "message “Well done, you\n",
        "took [count] attempts”.\n",
        "\"\"\"\n",
        "compnum = 50\n",
        "guess = int(input(\"Guess a number: \"))\n",
        "count = 1\n",
        "while guess != 50:\n",
        "  if guess < compnum:\n",
        "    print(\"Too low\")\n",
        "  else:\n",
        "    print(\"Too high\")\n",
        "  count += 1\n",
        "  guess = int(input(\"You have another try. Guess a number: \"))\n",
        "print(f\"Well done! You took {count} attempts.\")"
      ],
      "metadata": {
        "colab": {
          "base_uri": "https://localhost:8080/"
        },
        "id": "ixZxEanU8BmJ",
        "outputId": "6e421879-72b2-40ad-b73f-8d158dc69234"
      },
      "execution_count": null,
      "outputs": [
        {
          "output_type": "stream",
          "name": "stdout",
          "text": [
            "Guess a number: 5\n",
            "Too low\n",
            "You have another try. Guess a number: 45\n",
            "Too low\n",
            "You have another try. Guess a number: 51\n",
            "Too high\n",
            "You have another try. Guess a number: 50\n",
            "Well done! You took 4 attempts.\n"
          ]
        }
      ]
    },
    {
      "cell_type": "code",
      "source": [
        "# Problem 6\n",
        "\"\"\"\n",
        "Ask the user to enter a number between\n",
        "10 and 20. If they enter a value under 10,\n",
        "display the message “Too low” and ask\n",
        "them to try again. If they enter a value\n",
        "above 20, display the message “Too high”\n",
        "and ask them to try again. Keep repeating\n",
        "this until they enter a value that is\n",
        "between 10 and 20 and then display the\n",
        "message “Thank you”.\n",
        "\"\"\"\n",
        "num = int(input(\"Enter a number between 10 and 20: \" ))\n",
        "while num < 10 or num > 20:\n",
        "  if num < 10:\n",
        "    print(\"Too low\")\n",
        "  else:\n",
        "    print(\"Too high\")\n",
        "  num = int(input(\"Enter a number between 10 and 20: \" ))\n",
        "  print(\"Thank you\")"
      ],
      "metadata": {
        "colab": {
          "base_uri": "https://localhost:8080/"
        },
        "id": "TfRG5uIs-tnY",
        "outputId": "9a659efc-b175-4b1f-b9d2-13634826b287"
      },
      "execution_count": null,
      "outputs": [
        {
          "output_type": "stream",
          "name": "stdout",
          "text": [
            "Enter a number between 10 and 20: 21\n",
            "Too high\n",
            "Enter a number between 10 and 20: 20\n",
            "Thank you\n"
          ]
        }
      ]
    },
    {
      "cell_type": "code",
      "source": [
        "# Problem 7\n",
        "\"\"\"\n",
        "Using the song “10 green bottles”, display the lines “There are [num] green bottles\n",
        "hanging on the wall, [num] green bottles hanging on the wall, and if 1 green bottle\n",
        "should accidentally fall”. Then ask the question “how many green bottles will be\n",
        "hanging on the wall?” If the user answers correctly, display the message “There will be\n",
        "[num] green bottles hanging on the wall”. If they answer incorrectly, display the\n",
        "message “No, try again” until they get it right. When the number of green bottles gets\n",
        "down to 0, display the message “There are no more green bottles hanging on the wall”.\n",
        "\"\"\"\n",
        "bottles = 10\n",
        "while bottles > 0:\n",
        "  print(f\"There are {bottles} green bottles hanging on the wall.\\n{bottles} green bottles hanging on the wall.\\nAnd if 1 green bottle should accidentally fall.\")\n",
        "  bottles = bottles - 1\n",
        "  ask = int(input(\"How many bottles are left? \"))\n",
        "  if ask == bottles:\n",
        "       print(f\"There will be {bottles} green bottles hanging on the wall.\")\n",
        "  else:\n",
        "       while ask!= bottles:\n",
        "            ask = int(input(\"No. Try again\"))\n",
        "print(\"There are no more green bottles hanging on the wall\")"
      ],
      "metadata": {
        "id": "M01Ob4teFoDJ",
        "colab": {
          "base_uri": "https://localhost:8080/"
        },
        "outputId": "bfb0a002-c4b5-4325-b158-b962138fe820"
      },
      "execution_count": null,
      "outputs": [
        {
          "output_type": "stream",
          "name": "stdout",
          "text": [
            "There are 10 green bottles hanging on the wall\n",
            "10 green bottles hanging on the wall\n",
            "And if 1 green bottle should accidentally fall\n",
            "How many bottles are left? 9\n",
            "There will be 9 green bottles hanging on the wall.\n",
            "There are 9 green bottles hanging on the wall\n",
            "9 green bottles hanging on the wall\n",
            "And if 1 green bottle should accidentally fall\n",
            "How many bottles are left? 8\n",
            "There will be 8 green bottles hanging on the wall.\n",
            "There are 8 green bottles hanging on the wall\n",
            "8 green bottles hanging on the wall\n",
            "And if 1 green bottle should accidentally fall\n",
            "How many bottles are left? 10\n",
            "No. Try again7\n",
            "There are 7 green bottles hanging on the wall\n",
            "7 green bottles hanging on the wall\n",
            "And if 1 green bottle should accidentally fall\n",
            "How many bottles are left? 6\n",
            "There will be 6 green bottles hanging on the wall.\n",
            "There are 6 green bottles hanging on the wall\n",
            "6 green bottles hanging on the wall\n",
            "And if 1 green bottle should accidentally fall\n",
            "How many bottles are left? 5\n",
            "There will be 5 green bottles hanging on the wall.\n",
            "There are 5 green bottles hanging on the wall\n",
            "5 green bottles hanging on the wall\n",
            "And if 1 green bottle should accidentally fall\n",
            "How many bottles are left? 4\n",
            "There will be 4 green bottles hanging on the wall.\n",
            "There are 4 green bottles hanging on the wall\n",
            "4 green bottles hanging on the wall\n",
            "And if 1 green bottle should accidentally fall\n",
            "How many bottles are left? 3\n",
            "There will be 3 green bottles hanging on the wall.\n",
            "There are 3 green bottles hanging on the wall\n",
            "3 green bottles hanging on the wall\n",
            "And if 1 green bottle should accidentally fall\n",
            "How many bottles are left? 2\n",
            "There will be 2 green bottles hanging on the wall.\n",
            "There are 2 green bottles hanging on the wall\n",
            "2 green bottles hanging on the wall\n",
            "And if 1 green bottle should accidentally fall\n",
            "How many bottles are left? 1\n",
            "There will be 1 green bottles hanging on the wall.\n",
            "There are 1 green bottles hanging on the wall\n",
            "1 green bottles hanging on the wall\n",
            "And if 1 green bottle should accidentally fall\n",
            "How many bottles are left? 0\n",
            "There will be 0 green bottles hanging on the wall.\n",
            "There are no more green bttles hanging on the wall\n"
          ]
        }
      ]
    },
    {
      "cell_type": "markdown",
      "source": [
        "**CHALLENGE - RANDOM**"
      ],
      "metadata": {
        "id": "wz6inv6ZPeud"
      }
    },
    {
      "cell_type": "code",
      "source": [
        "# Problem 1\n",
        "\"\"\"\n",
        "Randomly choose either heads or tails (“h” or “t”). Ask\n",
        "the user to make their choice. If their choice is the same\n",
        "as the randomly selected value, display the message\n",
        "“You win”, otherwise display “Bad luck”. At the end, tell\n",
        "the user if the computer selected heads or tails.\n",
        "\"\"\"\n",
        "import random\n",
        "toss = random.choice([\"H\", \"T\"])\n",
        "user = input(\"Make a choice between Head(H) or Tail(T). H/T: \")\n",
        "user = user.upper()\n",
        "if user == toss:\n",
        "  print(\"You win!\")\n",
        "else:\n",
        "  print(\"Better luck next time\")\n",
        "if toss == \"H\":\n",
        "  print(\"It was Heads\")\n",
        "else:\n",
        "  print(\"It was Tails\")"
      ],
      "metadata": {
        "colab": {
          "base_uri": "https://localhost:8080/"
        },
        "id": "mdgOO7-0N-vh",
        "outputId": "fd220d2f-8c7f-444d-c79e-84c2bb6c8bc6"
      },
      "execution_count": null,
      "outputs": [
        {
          "output_type": "stream",
          "name": "stdout",
          "text": [
            "Make a choice between Head(H) or Tail(T). H/T: T\n",
            "Better luck next time\n",
            "It was Heads\n"
          ]
        }
      ]
    },
    {
      "cell_type": "code",
      "source": [
        "# Problem 2\n",
        "\"\"\"\n",
        "Randomly choose a number between 1 and 5. Ask the user to pick a\n",
        "number. If they guess correctly, display the message “Well done”,\n",
        "otherwise tell them if they are too high or too low and ask them to pick a\n",
        "second number. If they guess correctly on their second guess, display\n",
        "“Correct”, otherwise display “You lose”.\n",
        "\"\"\"\n",
        "num = random.randint(1,5)\n",
        "user = int(input(\"Enter a random number: \"))\n",
        "if user == num:\n",
        "  print(\"Well done.\")\n",
        "elif user < num:\n",
        "  print(\"Too low.\")\n",
        "else:\n",
        "  print(\"Too high.\")\n",
        "  user = int(input(\"Kindly guess again: \"))\n",
        "  if user == num:\n",
        "    print(\"Correct\")\n",
        "  else:\n",
        "    print(\"You lose\")"
      ],
      "metadata": {
        "colab": {
          "base_uri": "https://localhost:8080/"
        },
        "id": "4TcuhrunSeSr",
        "outputId": "47bbd6c0-1ec6-4b56-b473-99d7510f5b02"
      },
      "execution_count": null,
      "outputs": [
        {
          "output_type": "stream",
          "name": "stdout",
          "text": [
            "Enter a random number: 2\n",
            "Well done.\n"
          ]
        }
      ]
    },
    {
      "cell_type": "code",
      "source": [
        "# Problem 3\n",
        "\"\"\"\n",
        "Randomly pick a whole number between 1\n",
        "and 10. Ask the user to enter a number and\n",
        "keep entering numbers until they enter the\n",
        "number that was randomly picked.\n",
        "\"\"\"\n",
        "num = random.randint(1,10)\n",
        "while True:\n",
        "  user = int(input(\"Enter a random number between 1 and 10: \"))\n",
        "  if user == num:\n",
        "    print(\"Congratulations, you guessed right!\")\n",
        "    break\n",
        "  else:\n",
        "    print(\"Try again: \")\n"
      ],
      "metadata": {
        "colab": {
          "base_uri": "https://localhost:8080/"
        },
        "id": "Gsr8nP6kWO6I",
        "outputId": "d9743163-f910-433a-e37d-af161fc8bfec"
      },
      "execution_count": null,
      "outputs": [
        {
          "output_type": "stream",
          "name": "stdout",
          "text": [
            "Enter a random number between 1 and 10: 5\n",
            "Try again: \n",
            "Enter a random number between 1 and 10: 3\n",
            "Try again: \n",
            "Enter a random number between 1 and 10: 1\n",
            "Try again: \n",
            "Enter a random number between 1 and 10: 6\n",
            "Try again: \n",
            "Enter a random number between 1 and 10: 8\n",
            "Congratulations, you guessed right!\n"
          ]
        }
      ]
    },
    {
      "cell_type": "code",
      "source": [
        "# Problem 4\n",
        "\"\"\"\n",
        "Update problem 3 so that it tells the user if they are too high or too low\n",
        "before they pick again.\n",
        "\"\"\"\n",
        "num = random.randint(1,10)\n",
        "while True:\n",
        "  user = int(input(\"Enter a random number between 1 and 10: \"))\n",
        "  if user == num:\n",
        "    print(\"Congratulations, you guessed right!\")\n",
        "    break\n",
        "  else:\n",
        "    if user > num:\n",
        "      print(\"Too high\")\n",
        "    else:\n",
        "      print(\"Too low\")\n",
        "    print(\"Try again: \")"
      ],
      "metadata": {
        "colab": {
          "base_uri": "https://localhost:8080/"
        },
        "id": "aJ2T20qnX9Dv",
        "outputId": "39ce10ed-62e9-48bb-c8f4-a8f04a663df4"
      },
      "execution_count": null,
      "outputs": [
        {
          "output_type": "stream",
          "name": "stdout",
          "text": [
            "Enter a random number between 1 and 10: 5\n",
            "Too low\n",
            "Try again: \n",
            "Enter a random number between 1 and 10: 6\n",
            "Too low\n",
            "Try again: \n",
            "Enter a random number between 1 and 10: 9\n",
            "Too high\n",
            "Try again: \n",
            "Enter a random number between 1 and 10: 7\n",
            "Too low\n",
            "Try again: \n",
            "Enter a random number between 1 and 10: 8\n",
            "Congratulations, you guessed right!\n"
          ]
        }
      ]
    },
    {
      "cell_type": "code",
      "source": [
        "# Problem 5\n",
        "\"\"\"\n",
        "Make a maths quiz that asks five questions by randomly\n",
        "generating two whole numbers to make the question\n",
        "(e.g. [num1] + [num2]). Ask the user to enter the\n",
        "answer. If they get it right add a point to their score. At\n",
        "the end of the quiz, tell them how many they got correct\n",
        "out of five.\n",
        "\"\"\"\n",
        "score = 0\n",
        "# Perform the quiz with five questions\n",
        "for i in range(5):\n",
        "    # Generate two random whole numbers\n",
        "    num1 = random.randint(1, 20)\n",
        "    num2 = random.randint(1, 20)\n",
        "\n",
        "    # Generate the question and correct answer\n",
        "    question = f\"What is {num1} + {num2}? \"\n",
        "    correct_answer = num1 + num2\n",
        "\n",
        "    # Ask the user to enter their answer\n",
        "    user_answer = int(input(question))\n",
        "\n",
        "    # Check if the user's answer is correct\n",
        "    if user_answer == correct_answer:\n",
        "        print(\"Correct!\")\n",
        "        score += 1\n",
        "    else:\n",
        "        print(\"Incorrect!\")\n",
        "\n",
        "# Print the final score\n",
        "print(\"You got\", score, \"out of 5 correct.\")\n",
        "\n"
      ],
      "metadata": {
        "colab": {
          "base_uri": "https://localhost:8080/"
        },
        "id": "RN9Y1X2VZSCA",
        "outputId": "a9997221-eead-477f-d58d-c7a9e0fb57aa"
      },
      "execution_count": null,
      "outputs": [
        {
          "output_type": "stream",
          "name": "stdout",
          "text": [
            "What is 3 + 3? 5\n",
            "Incorrect!\n",
            "What is 6 + 2? 8\n",
            "Correct!\n",
            "What is 9 + 2? 10\n",
            "Incorrect!\n",
            "What is 19 + 7? 26\n",
            "Correct!\n",
            "What is 6 + 16? 22\n",
            "Correct!\n",
            "You got 3 out of 5 correct.\n"
          ]
        }
      ]
    },
    {
      "cell_type": "code",
      "source": [
        "# Problem 6\n",
        "\"\"\"\n",
        "Display five colours and ask the user to pick one. If they\n",
        "pick the same as the program has chosen, say “Well\n",
        "done”, otherwise display a witty answer which involves\n",
        "the correct colour, e.g. “I bet you are GREEN with envy”\n",
        "or “You are probably feeling BLUE right now”. Ask\n",
        "them to guess again; if they have still not got it right,\n",
        "keep giving them the same clue and ask the user to\n",
        "enter a colour until they guess it correctly.\n",
        "\"\"\"\n",
        "color = random.choice([\"red\", \"blue\", \"green\", \"yellow\", \"orange\"])\n",
        "user_color = input(\"Pick a color from red, blue, green, yellow, or orange: \").lower()\n",
        "while user_color != color:\n",
        "    # Generate a witty response based on the correct color\n",
        "    if color == \"red\":\n",
        "        print(\"You're probably seeing RED right now.\")\n",
        "    elif color == \"blue\":\n",
        "        print(\"I bet you're feeling BLUE right now.\")\n",
        "    elif color == \"green\":\n",
        "        print(\"I bet you're GREEN with envy.\")\n",
        "    elif color == \"yellow\":\n",
        "        print(\"You're feeling YELLOW, aren't you?\")\n",
        "    elif color == \"orange\":\n",
        "        print(\"Feeling ORANGE you glad you tried again?\")\n",
        "\n",
        "    # Ask the user to guess again\n",
        "    user_color = input(\"Guess again: \").lower()\n",
        "\n",
        "# If the user's color matches the random color, congratulate them\n",
        "print(\"Well done! You guessed the correct color:\", color.capitalize())"
      ],
      "metadata": {
        "colab": {
          "base_uri": "https://localhost:8080/"
        },
        "id": "XvgAZUTxav6U",
        "outputId": "bfab854f-5705-4c3a-f51e-9d8e10dc9fa0"
      },
      "execution_count": null,
      "outputs": [
        {
          "output_type": "stream",
          "name": "stdout",
          "text": [
            "Pick a color from red, blue, green, yellow, or orange: blue\n",
            "I bet you're GREEN with envy.\n",
            "Guess again: red\n",
            "I bet you're GREEN with envy.\n",
            "Guess again: Green\n",
            "Well done! You guessed the correct color: Green\n"
          ]
        }
      ]
    },
    {
      "cell_type": "markdown",
      "source": [
        "**Challenge - Tuples, Lists and Dictionaries**\n"
      ],
      "metadata": {
        "id": "2d0pF7_3dway"
      }
    },
    {
      "cell_type": "code",
      "source": [
        "# Problem 1\n",
        "\"\"\"\n",
        "Create a tuple containing the names of five countries and display the whole tuple. Ask\n",
        "the user to enter one of the countries that have been shown to them and then display\n",
        "the index number (i.e. position in the list) of that item in the tuple.\n",
        "\"\"\"\n",
        "country = (\"Ghana\",\"Ethopia\", \"Finland\", \"Spain\", \"Canada\")\n",
        "print(country)\n",
        "user = input(\"Please enter a country displayed above: \")\n",
        "print(f\"{user} has index number {country.index(user)}\")\n"
      ],
      "metadata": {
        "id": "X6jNgSHgb6jx",
        "colab": {
          "base_uri": "https://localhost:8080/"
        },
        "outputId": "2c4dcc7c-7a05-4c65-f9e4-fbbc4df6fbc7"
      },
      "execution_count": null,
      "outputs": [
        {
          "output_type": "stream",
          "name": "stdout",
          "text": [
            "('Ghana', 'Ethopia', 'Finland', 'Spain', 'Canada')\n",
            "Please enter a country displayed above: Spain\n",
            "Spain has index number 3\n"
          ]
        }
      ]
    },
    {
      "cell_type": "code",
      "source": [
        "# Problem 2\n",
        "\"\"\"\n",
        "Add to program 1 to ask the\n",
        "user to enter a number and\n",
        "display the country in that\n",
        "position.\n",
        "\"\"\"\n",
        "country = (\"Ghana\",\"Ethopia\", \"Finland\", \"Spain\", \"Canada\")\n",
        "user = int(input(\"Please enter a number between 0 and 4 inclusive: \"))\n",
        "print(f\"The index {user} is {country[user]}\")"
      ],
      "metadata": {
        "colab": {
          "base_uri": "https://localhost:8080/"
        },
        "id": "keAOb6ggc59W",
        "outputId": "6f82b516-4703-4616-9a21-d882eb24d282"
      },
      "execution_count": null,
      "outputs": [
        {
          "output_type": "stream",
          "name": "stdout",
          "text": [
            "Please enter a number between 0 and 4 inclusive: 2\n",
            "The index 2 is Finland\n"
          ]
        }
      ]
    },
    {
      "cell_type": "code",
      "source": [
        "# Problem 3\n",
        "\"\"\"\n",
        "Create a list of two sports. Ask the\n",
        "user what their favourite sport is and\n",
        "add this to the end of the list. Sort the\n",
        "list and display it.\n",
        "\"\"\"\n",
        "sport = [\"Hockey\", \"Football\"]\n",
        "fav = sport.append(input(\"What is your favorite sport? \"))\n",
        "print(sorted(sport))\n"
      ],
      "metadata": {
        "colab": {
          "base_uri": "https://localhost:8080/"
        },
        "id": "vcQoFpikeoB7",
        "outputId": "4bffdd6b-c20f-4854-ef16-33560a39430f"
      },
      "execution_count": null,
      "outputs": [
        {
          "output_type": "stream",
          "name": "stdout",
          "text": [
            "What is your favorite sport? Volley\n",
            "['Football', 'Hockey', 'Volley']\n"
          ]
        }
      ]
    },
    {
      "cell_type": "code",
      "source": [
        "# Problem 4\n",
        "\"\"\"\n",
        "Create a list of six school subjects. Ask the user which of these\n",
        "subjects they don’t like. Delete the subject they have chosen from the\n",
        "list before you display the list again.\n",
        "\"\"\"\n",
        "subject = [\"Physics\", \"Mathematics\", \"English\", \"Biology\", \"Chemistry\", \"Optics\"]\n",
        "print(subject)\n",
        "user =subject.remove(input(\"Which subject do you dislike? \"))\n",
        "print(subject)\n"
      ],
      "metadata": {
        "colab": {
          "base_uri": "https://localhost:8080/"
        },
        "id": "juTGNuGhjZyf",
        "outputId": "e238ef7b-2856-4006-f2bb-705e7457ce87"
      },
      "execution_count": null,
      "outputs": [
        {
          "output_type": "stream",
          "name": "stdout",
          "text": [
            "['Physics', 'Mathematics', 'English', 'Biology', 'Chemistry', 'Optics']\n",
            "Which subject do you dislike? English\n",
            "['Physics', 'Mathematics', 'Biology', 'Chemistry', 'Optics']\n"
          ]
        }
      ]
    },
    {
      "cell_type": "code",
      "source": [
        "# Problem 5\n",
        "\"\"\"\n",
        "Ask the user to enter four of their favourite foods and store them in\n",
        "a dictionary so that they are indexed with numbers starting from 1. Display\n",
        "the dictionary in full, showing the index number and the item. Ask them which they\n",
        "want to get rid of and remove it from the list. Sort the remaining data and display\n",
        "the dictionary.\n",
        "\"\"\"\n",
        "# Ask the user to enter four favorite foods\n",
        "foods = {}\n",
        "for i in range(4):\n",
        "    food = input(\"Enter your favorite food: \")\n",
        "    foods[i + 1] = food\n",
        "\n",
        "# Display the dictionary in full\n",
        "print(foods)\n",
        "\n",
        "# Ask the user which food they want to get rid of\n",
        "to_remove = int(input(\"Enter the index of the food you want to get rid of: \"))\n",
        "del foods[to_remove]\n",
        "\n",
        "# Sort the remaining data and display the dictionary\n",
        "print(sorted(foods.values()))\n"
      ],
      "metadata": {
        "colab": {
          "base_uri": "https://localhost:8080/"
        },
        "id": "VvKxik6Il5uP",
        "outputId": "a402936a-882b-4bdc-956a-cf8d76462cc8"
      },
      "execution_count": null,
      "outputs": [
        {
          "output_type": "stream",
          "name": "stdout",
          "text": [
            "Enter your favorite food: Potato and Beef Sauce\n",
            "Enter your favorite food: Jollof Rice\n",
            "Enter your favorite food: Noodles\n",
            "Enter your favorite food: Plantain and Beans stew\n",
            "{1: 'Potato and Beef Sauce', 2: 'Jollof Rice', 3: 'Noodles', 4: 'Plantain and Beans stew'}\n",
            "Enter the index of the food you want to get rid of: 3\n",
            "['Jollof Rice', 'Plantain and Beans stew', 'Potato and Beef Sauce']\n"
          ]
        }
      ]
    },
    {
      "cell_type": "code",
      "source": [
        "# Problem 6\n",
        "\"\"\"\n",
        "Enter a list of ten colours. Ask the user for a starting\n",
        "number between 0 and 4 and an end number\n",
        "between 5 and 9. Display the list for those colours\n",
        "between the start and end numbers the user input.\n",
        "\"\"\"\n",
        "\n",
        "colors = [\"red\", \"blue\", \"green\", \"yellow\", \"orange\", \"purple\", \"pink\", \"brown\", \"black\", \"white\"]\n",
        "start = int(input(\"Enter a starting number between 0 and 4: \"))\n",
        "while start < 0 or start > 4:\n",
        "    start = int(input(\"Invalid input! Enter a starting number between 0 and 4: \"))\n",
        "end = int(input(\"Enter an end number between 5 and 9: \"))\n",
        "while end < 5 or end > 9:\n",
        "    end = int(input(\"Invalid input! Enter an end number between 5 and 9: \"))\n",
        "\n",
        "# Display the list of colors between the start and end numbers\n",
        "print(\"Colors between the start and end numbers:\")\n",
        "print(colors[start:end+1])\n"
      ],
      "metadata": {
        "colab": {
          "base_uri": "https://localhost:8080/"
        },
        "id": "CtDhDAI9oAG4",
        "outputId": "65127897-9550-4078-8b18-d6553165d4a1"
      },
      "execution_count": null,
      "outputs": [
        {
          "output_type": "stream",
          "name": "stdout",
          "text": [
            "Enter a starting number between 0 and 4: 3\n",
            "Enter an end number between 5 and 9: 8\n",
            "Colors between the start and end numbers:\n",
            "['yellow', 'orange', 'purple', 'pink', 'brown', 'black']\n"
          ]
        }
      ]
    },
    {
      "cell_type": "code",
      "source": [
        "# Problem 7\n",
        "\"\"\"\n",
        "Create a list of four three-digit numbers. Display the list to the\n",
        "user, showing each item from the list on a separate line. Ask\n",
        "the user to enter a three-digit number. If the number they\n",
        "have typed in matches one in the list, display the position of\n",
        "that number in the list, otherwise display the message\n",
        "“That is not in the list”.\n",
        "\"\"\"\n",
        "num = [354, 789, 121, 232]\n",
        "for i in num:\n",
        "  print(i)\n",
        "user = int(input(\"Enter a three-digit number: \"))\n",
        "if user in num:\n",
        "  print(f'{user} is in the list with index {num.index(user)}')\n",
        "else:\n",
        "  print(\"That is not in the list\")\n",
        "\n"
      ],
      "metadata": {
        "colab": {
          "base_uri": "https://localhost:8080/"
        },
        "id": "-orh_FposhQo",
        "outputId": "60f04017-f35a-4fb8-c569-34a732751cb2"
      },
      "execution_count": null,
      "outputs": [
        {
          "output_type": "stream",
          "name": "stdout",
          "text": [
            "354\n",
            "789\n",
            "121\n",
            "232\n",
            "Enter a three-digit number: 121\n",
            "121 is in the list with index 2\n"
          ]
        }
      ]
    },
    {
      "cell_type": "code",
      "source": [
        "# Problem 8\n",
        "\"\"\"\n",
        "Ask the user to enter the names of three people they want to\n",
        "invite to a party and store them in a list. After they have entered\n",
        "all three names, ask them if they want to add another. If they do,\n",
        "allow them to add more names until they answer “no”. When\n",
        "they answer “no”, display how many people they have invited to\n",
        "the party.\n",
        "\"\"\"\n",
        "print(\"Enter the names of three people you want to invite to the party:\")\n",
        "invited_people = []\n",
        "for i in range(3):\n",
        "    name = input(f\"Person {i+1}: \")\n",
        "    invited_people.append(name)\n",
        "#Asking for more invitees\n",
        "while True:\n",
        "     user = input('Do you wish to invite more people? Yes/No ').lower()\n",
        "     if user == 'yes':\n",
        "        name = input(\"Enter the name of the person: \")\n",
        "        invited_people.append(name)\n",
        "\n",
        "     else:\n",
        "        num_invited = len(invited_people)\n",
        "        print(f\"You have invited {num_invited} people to the party.\")\n",
        "        break\n",
        "\n"
      ],
      "metadata": {
        "colab": {
          "base_uri": "https://localhost:8080/"
        },
        "id": "wNysa52auBMx",
        "outputId": "9aa09544-30ff-410c-ba2b-e14e8ab8840c"
      },
      "execution_count": null,
      "outputs": [
        {
          "output_type": "stream",
          "name": "stdout",
          "text": [
            "Enter the names of three people you want to invite to the party:\n",
            "Person 1: Jim\n",
            "Person 2: Ron\n",
            "Person 3: Ron\n",
            "Do you wish to invite more people? Yes/No yes\n",
            "Enter the name of the person: Wendy\n",
            "Do you wish to invite more people? Yes/No no\n",
            "You have invited 4 people to the party.\n"
          ]
        }
      ]
    },
    {
      "cell_type": "code",
      "source": [
        "# Problem 9\n",
        "\"\"\"\n",
        "Change program 8 so that once the user has completed their list of names, display the\n",
        "full list and ask them to type in one of the names on the list. Display the position of that\n",
        "name in the list. Ask the user if they still want that person to come to the party. If they\n",
        "answer “no”, delete that entry from the list and display the list again.\n",
        "\"\"\"\n",
        "print(\"Enter the names of three people you want to invite to the party:\")\n",
        "invited_people = []\n",
        "for i in range(3):\n",
        "    name = input(f\"Person {i+1}: \")\n",
        "    invited_people.append(name)\n",
        "#Asking for more invitees\n",
        "while True:\n",
        "     user = input('Do you wish to invite more people? Yes/No ').lower()\n",
        "     if user == 'yes':\n",
        "        name = input(\"Enter the name of the person: \")\n",
        "        invited_people.append(name)\n",
        "     elif user == 'no':\n",
        "        break\n",
        "     else:\n",
        "        print(\"Invalid input! Please enter 'yes' or 'no'.\")\n",
        "\n",
        "num_invited = len(invited_people)\n",
        "print(f\"You have invited {num_invited} people to the party.\")\n",
        "\n",
        "\n",
        "user_1 = input(\"Type one name in the list of invitees: \")\n",
        "print(f\"{user_1} is on the list at index {invited_people.index(user_1)}\")\n",
        "coming = input(f\"Do you still want to invite {user_1}? Yes/No \")\n",
        "if coming == \"no\":\n",
        "    invited_people.remove(user_1)\n",
        "\n",
        "print(\"Your list of invitees are\", invited_people)\n",
        "\n"
      ],
      "metadata": {
        "colab": {
          "base_uri": "https://localhost:8080/"
        },
        "id": "EdGpEylyyP_t",
        "outputId": "401b569d-2d7f-44c4-efcf-b4bff5b8edf6"
      },
      "execution_count": null,
      "outputs": [
        {
          "output_type": "stream",
          "name": "stdout",
          "text": [
            "Enter the names of three people you want to invite to the party:\n",
            "Person 1: Jim\n",
            "Person 2: Ron\n",
            "Person 3: James\n",
            "Do you wish to invite more people? Yes/No n\n",
            "Invalid input! Please enter 'yes' or 'no'.\n",
            "Do you wish to invite more people? Yes/No yes\n",
            "Enter the name of the person: Ariel\n",
            "Do you wish to invite more people? Yes/No yes\n",
            "Enter the name of the person: Wendy\n",
            "Do you wish to invite more people? Yes/No no\n",
            "You have invited 5 people to the party.\n",
            "Type one name in the list of invitees: James\n",
            "James is on the list at index 2\n",
            "Do you still want to invite James? Yes/No no\n",
            "Your listof invitees are ['Jim', 'Ron', 'Ariel', 'Wendy']\n"
          ]
        }
      ]
    },
    {
      "cell_type": "code",
      "source": [
        "# Problem 10\n",
        "\"\"\"\n",
        "Create a list containing the titles of four TV programmes and display\n",
        "them on separate lines. Ask the user to enter another show and a\n",
        "position they want it inserted into the list. Display the list again,\n",
        "showing all five TV programmes in their new positions.\n",
        "\"\"\"\n",
        "tv_programs = [\"Game of Thrones\", \"Breaking Bad\", \"Friends\", \"Stranger Things\"]\n",
        "\n",
        "# Display the original list on separate lines\n",
        "for program in tv_programs:\n",
        "    print(program)\n",
        "program =input(\"Enter another tv programm: \")\n",
        "position = int(input(\"Enter the position (index) where you want to insert it (0 to 4): \"))\n",
        "tv_programs.insert(position, program)\n",
        "for program in tv_programs:\n",
        "    print(program)\n",
        "\n"
      ],
      "metadata": {
        "colab": {
          "base_uri": "https://localhost:8080/"
        },
        "id": "QZ8pZd7006Di",
        "outputId": "bf2b0d13-69fb-4ebe-bb05-0a09673b0802"
      },
      "execution_count": null,
      "outputs": [
        {
          "output_type": "stream",
          "name": "stdout",
          "text": [
            "Game of Thrones\n",
            "Breaking Bad\n",
            "Friends\n",
            "Stranger Things\n",
            "Enter another tv programm: The Witcher\n",
            "Enter the position (index) where you want to insert it (0 to 4): 1\n",
            "Game of Thrones\n",
            "The Witcher\n",
            "Breaking Bad\n",
            "Friends\n",
            "Stranger Things\n"
          ]
        }
      ]
    },
    {
      "cell_type": "markdown",
      "source": [
        "**Challenge - String Manipulation**"
      ],
      "metadata": {
        "id": "exFA_QkQ7QvO"
      }
    },
    {
      "cell_type": "code",
      "source": [
        "# Problem 1\n",
        "\"\"\"\n",
        "Ask the user to enter their first name and then display\n",
        "the length of their first name. Then ask for their surname\n",
        "and display the length of their surname. Join their first\n",
        "name and surname together with a space between and\n",
        "display the result. Finally, display the length of their full\n",
        "name (including the space).\n",
        "\"\"\"\n",
        "first_name = input(\"Enter your first name: \")\n",
        "print(\"Length of your first name:\", len(first_name))\n",
        "surname = input(\"Enter your surname: \")\n",
        "print(\"Length of your surname:\", len(surname))\n",
        "\n",
        "# Join their first name and surname together with a space between and display the result\n",
        "full_name = first_name + \" \" + surname\n",
        "print(\"Your full name:\", full_name)\n",
        "\n",
        "# Display the length of their full name (including the space)\n",
        "print(\"Length of your full name:\", len(full_name))\n"
      ],
      "metadata": {
        "colab": {
          "base_uri": "https://localhost:8080/"
        },
        "id": "jsT45Szt64W6",
        "outputId": "e696e7a1-c8fb-4256-8812-7ff66fdf5aa5"
      },
      "execution_count": null,
      "outputs": [
        {
          "output_type": "stream",
          "name": "stdout",
          "text": [
            "Enter your first name: Lingard\n",
            "Length of your first name: 7\n",
            "Enter your surname: Yamso\n",
            "Length of your surname: 5\n",
            "Your full name: Lingard Yamso\n",
            "Length of your full name: 13\n"
          ]
        }
      ]
    },
    {
      "cell_type": "code",
      "source": [
        "# Problem 2\n",
        "\"\"\"\n",
        "Ask the user to type in their favourite school subject.\n",
        "Display it with “-” after each letter, e.g. S-p-a-n-i-s-h-.\n",
        "\"\"\"\n",
        "subject = input(\"Type in your favorite school subject: \")\n",
        "for i in subject:\n",
        "  print(i, end=\"-\")"
      ],
      "metadata": {
        "colab": {
          "base_uri": "https://localhost:8080/"
        },
        "id": "WT4esPCg9Ifs",
        "outputId": "cc60c6f1-9278-4ba3-c004-401ae2a6818b"
      },
      "execution_count": null,
      "outputs": [
        {
          "output_type": "stream",
          "name": "stdout",
          "text": [
            "Type in your favorite school subject: Chemistry\n",
            "C-h-e-m-i-s-t-r-y-"
          ]
        }
      ]
    },
    {
      "cell_type": "code",
      "source": [
        "# Problem 3\n",
        "\"\"\"\n",
        "Show the user a line of text from your favourite poem\n",
        "and ask for a starting and ending point. Display the\n",
        "characters between those two points.\n",
        "\"\"\"\n",
        "poem = \"Special cases aren't special enough to break the rules\"\n",
        "print(f\"My favourite peom line is {poem}\")\n",
        "# Ask the user for a starting point and an ending point\n",
        "start_index = int(input(\"Enter the starting index: \"))\n",
        "end_index = int(input(\"Enter the ending index: \"))\n",
        "\n",
        "# Display the characters between the starting and ending points\n",
        "print(\"Characters between the starting and ending points:\")\n",
        "print(poem[start_index:end_index])\n"
      ],
      "metadata": {
        "colab": {
          "base_uri": "https://localhost:8080/"
        },
        "id": "V3cBtxtT-B7R",
        "outputId": "2d36a259-e934-4ccf-d44e-804f99f73c57"
      },
      "execution_count": null,
      "outputs": [
        {
          "output_type": "stream",
          "name": "stdout",
          "text": [
            "My favourite peom line is Special cases aren't special enough to break the rules\n",
            "Enter the starting index: 4\n",
            "Enter the ending index: 9\n",
            "Characters between the starting and ending points:\n",
            "ial c\n"
          ]
        }
      ]
    },
    {
      "cell_type": "code",
      "source": [
        "#Problem 4\n",
        "\"\"\"\n",
        "Ask the user to type in a word in upper case. If they\n",
        "type it in lower case, ask them to try again. Keep\n",
        "repeating this until they type in a message all in\n",
        "uppercase.\n",
        "\"\"\"\n",
        "user = input(\"Type in a word in uppercase only: \")\n",
        "while not user.isupper():\n",
        "    print(\"Please type the word in upper case.\")\n",
        "    user = input(\"Try again: \")\n",
        "\n",
        "print(\"Thank you! You typed the word in upper case:\", user)"
      ],
      "metadata": {
        "colab": {
          "base_uri": "https://localhost:8080/"
        },
        "id": "gYSCOrTPAetT",
        "outputId": "def6ba13-1e9d-4a40-9840-7467f0c13628"
      },
      "execution_count": null,
      "outputs": [
        {
          "output_type": "stream",
          "name": "stdout",
          "text": [
            "Type in a word in uppercase only: Mount\n",
            "Please type the word in upper case.\n",
            "Try again: MOUNT\n",
            "Thank you! You typed the word in upper case: MOUNT\n"
          ]
        }
      ]
    },
    {
      "cell_type": "code",
      "source": [
        "#Problem 5\n",
        "\"\"\"\n",
        "Ask the user to type in their postcode. Display the first\n",
        "two letters in uppercase.\n",
        "\"\"\"\n",
        "postcode = input(\"Please type in your postcode: \")\n",
        "\n",
        "# Display the first two letters in uppercase\n",
        "first_two_letters = postcode[:2].upper()\n",
        "print(\"First two letters of the postcode in uppercase:\", first_two_letters)"
      ],
      "metadata": {
        "colab": {
          "base_uri": "https://localhost:8080/"
        },
        "id": "axmlog1wAvpB",
        "outputId": "772bffe5-4014-4a2a-e65c-ae06eb165168"
      },
      "execution_count": null,
      "outputs": [
        {
          "output_type": "stream",
          "name": "stdout",
          "text": [
            "Please type in your postcode: GN - 0876 \n",
            "First two letters of the postcode in uppercase: GN\n"
          ]
        }
      ]
    },
    {
      "cell_type": "code",
      "source": [
        "#Problem 6\n",
        "\"\"\"\n",
        "Ask the user to type in their name and then tell them how many vowels\n",
        "are in their name.\n",
        "\"\"\"\n",
        "\n",
        "name = input(\"Please type in your name: \")\n",
        "vowel_count = 0\n",
        "vowels = {'a', 'e', 'i', 'o', 'u'}\n",
        "\n",
        "for i in name:\n",
        "    if i.lower() in vowels:\n",
        "        vowel_count += 1\n",
        "\n",
        "# Display the number of vowels in the name\n",
        "print(\"Number of vowels in your name:\", vowel_count)\n"
      ],
      "metadata": {
        "colab": {
          "base_uri": "https://localhost:8080/"
        },
        "id": "I1tWq8ArCXwC",
        "outputId": "b757c36f-6ccf-484c-883b-8a84a0b7aea4"
      },
      "execution_count": null,
      "outputs": [
        {
          "output_type": "stream",
          "name": "stdout",
          "text": [
            "Please type in your name: Ronney\n",
            "Number of vowels in your name: 2\n"
          ]
        }
      ]
    },
    {
      "cell_type": "code",
      "source": [
        "#Problem 6\n",
        "\"\"\"\n",
        "Ask the user to enter a new password. Ask them to enter it again.\n",
        "If the two passwords match, display “Thank you”. If the letters are\n",
        "correct but in the wrong case, display the message “They must be in the\n",
        "same case”, otherwise display the message “Incorrect”.\n",
        "\"\"\"\n",
        "password1 = input(\"Enter a new password: \")\n",
        "password2 = input(\"Enter the password again: \")\n",
        "\n",
        "# Check if the passwords match\n",
        "if password1 == password2:\n",
        "    print(\"Thank you\")\n",
        "elif password1.lower() == password2.lower() or password1.upper() == password2.upper():\n",
        "    print(\"They must be in the same case\")\n",
        "else:\n",
        "    print(\"Incorrect\")\n"
      ],
      "metadata": {
        "colab": {
          "base_uri": "https://localhost:8080/"
        },
        "id": "xLK9rdWvDD27",
        "outputId": "1b5fbea0-3cf7-4850-f433-c0ee86221d68"
      },
      "execution_count": null,
      "outputs": [
        {
          "output_type": "stream",
          "name": "stdout",
          "text": [
            "Enter a new password: juooib9outf u Yi\n",
            "Enter the password again: juooib9outf u YI\n",
            "They must be in the same case\n"
          ]
        }
      ]
    },
    {
      "cell_type": "code",
      "source": [
        "#Problem 7\n",
        "\"\"\"\n",
        "Ask the user to type in a word and then display it backwards on separate lines.\n",
        "\"\"\"\n",
        "word = input(\"Kindly type a word: \")\n",
        "# Display the word backwards on separate lines\n",
        "print(\"Word spelled backwards: \")\n",
        "for char in reversed(word):\n",
        "    print(char)"
      ],
      "metadata": {
        "colab": {
          "base_uri": "https://localhost:8080/"
        },
        "id": "Rc1KFdG2E0l5",
        "outputId": "a78e7088-4546-4363-b607-e0846bc55121"
      },
      "execution_count": null,
      "outputs": [
        {
          "output_type": "stream",
          "name": "stdout",
          "text": [
            "Kindly type a word: Amazing\n",
            "Word spelled backwards: \n",
            "g\n",
            "n\n",
            "i\n",
            "z\n",
            "a\n",
            "m\n",
            "A\n"
          ]
        }
      ]
    },
    {
      "cell_type": "markdown",
      "source": [
        "**Challenge - Numeric Arrays**"
      ],
      "metadata": {
        "id": "7DuvuJIEEzpg"
      }
    },
    {
      "cell_type": "code",
      "source": [
        "#Problem 1\n",
        "\"\"\"\n",
        "Ask the user for a list of five\n",
        "integers. Store them in an array.\n",
        "Sort the list and display it in\n",
        "reverse order.\n",
        "\"\"\"\n",
        "from array import *\n",
        "list_num = array(\"i\", [])\n",
        "for i in range(0, 5):\n",
        "  num = int(input('Enter  number: '))\n",
        "  list_num.append(num)\n",
        "list_num = sorted(list_num)\n",
        "list_num.reverse\n",
        "print(\"Sorted list in reverse order:\", list_num)"
      ],
      "metadata": {
        "id": "2H9sOpSbEflW",
        "colab": {
          "base_uri": "https://localhost:8080/"
        },
        "outputId": "cff75d97-7cfd-4a15-ec7b-e9964a23cf38"
      },
      "execution_count": null,
      "outputs": [
        {
          "output_type": "stream",
          "name": "stdout",
          "text": [
            "Enter  number: 5\n",
            "Enter  number: 4\n",
            "Enter  number: 7\n",
            "Enter  number: 3\n",
            "Enter  number: 9\n",
            "Sorted list in reverse order: [3, 4, 5, 7, 9]\n"
          ]
        }
      ]
    },
    {
      "cell_type": "code",
      "source": [
        "#Problem 2\n",
        "\"\"\"\n",
        "Create an array which will store a list of integers.\n",
        "Generate five random numbers and store them in\n",
        "the array. Display the array (showing each item on\n",
        "a separate line\n",
        "\"\"\"\n",
        "import random\n",
        "num = array(\"i\", [])\n",
        "for i in range(5):\n",
        "  lis = random.randint(100, 1000)\n",
        "  num.append(lis)\n",
        "for i in num:\n",
        "  print(i)"
      ],
      "metadata": {
        "colab": {
          "base_uri": "https://localhost:8080/"
        },
        "id": "v812rurX2YLJ",
        "outputId": "8bff0bcd-ad18-4107-e9e5-603d3af80428"
      },
      "execution_count": null,
      "outputs": [
        {
          "output_type": "stream",
          "name": "stdout",
          "text": [
            "162\n",
            "773\n",
            "423\n",
            "161\n",
            "578\n"
          ]
        }
      ]
    },
    {
      "cell_type": "code",
      "source": [
        "#Problem 3\n",
        "\"\"\"\n",
        "Ask the user to enter numbers. If they enter a\n",
        "number between 10 and 20, save it in the array,\n",
        "otherwise display the message “Outside the\n",
        "range”. Once five numbers have been\n",
        "successfully added, display the message “Thank\n",
        "you” and display the array with each item shown\n",
        "on a separate line.\n",
        "\"\"\"\n",
        "\n",
        "numbers = array('i', [])\n",
        "while len(numbers) < 5:\n",
        "    num = int(input(\"Enter a number: \"))\n",
        "    if 10 <= num <= 20:\n",
        "        numbers.append(num)\n",
        "    else:\n",
        "        print(\"Outside the range\")\n",
        "\n",
        "print(\"Thank you\")\n",
        "\n",
        "1\n",
        "print(\"Numbers in the array:\")\n",
        "for num in numbers:\n",
        "    print(num)\n",
        "\n"
      ],
      "metadata": {
        "colab": {
          "base_uri": "https://localhost:8080/"
        },
        "id": "s6hnEhDY5dB6",
        "outputId": "d447a0c0-4e2d-414a-d18a-cfc4326f3a4b"
      },
      "execution_count": null,
      "outputs": [
        {
          "output_type": "stream",
          "name": "stdout",
          "text": [
            "Enter a number: 3\n",
            "Outside the range\n",
            "Enter a number: 14\n",
            "Enter a number: 9\n",
            "Outside the range\n",
            "Enter a number: 12\n",
            "Enter a number: 1\n",
            "Outside the range\n",
            "Enter a number: 10\n",
            "Enter a number: 14\n",
            "Enter a number: 17\n",
            "Thank you\n",
            "Numbers in the array:\n",
            "14\n",
            "12\n",
            "10\n",
            "14\n",
            "17\n"
          ]
        }
      ]
    },
    {
      "cell_type": "code",
      "source": [
        "#Problem 4\n",
        "\"\"\"\n",
        "Create an array which contains\n",
        "five numbers (two of which\n",
        "should be repeated). Display\n",
        "the whole array to the user. Ask\n",
        "the user to enter one of the\n",
        "numbers from the array and\n",
        "then display a message saying\n",
        "how many times that number\n",
        "appears in the list.\n",
        "\"\"\"\n",
        "numbers = array('i', [1, 3, 5, 3, 7])\n",
        "print(\"Array:\", numbers)\n",
        "user_input = int(input(\"Enter a number from the array: \"))\n",
        "count = numbers.count(user_input)\n",
        "\n",
        "print(f\"The number {user_input} appears {count} times in the list.\")\n",
        "\n"
      ],
      "metadata": {
        "colab": {
          "base_uri": "https://localhost:8080/"
        },
        "id": "NYHFZA7K7yq3",
        "outputId": "bcedeae2-cdfd-45e0-c071-bd40f51a7e9e"
      },
      "execution_count": null,
      "outputs": [
        {
          "output_type": "stream",
          "name": "stdout",
          "text": [
            "Array: array('i', [1, 3, 5, 3, 7])\n",
            "Enter a number from the array: 5\n",
            "The number 5 appears 1 times in the list.\n"
          ]
        }
      ]
    },
    {
      "cell_type": "code",
      "source": [
        "#Problem 5\n",
        "\"\"\"\n",
        "Create two arrays (one containing three numbers that\n",
        "the user enters and one containing a set of five random\n",
        "numbers). Join these two arrays together into one large array.\n",
        "Sort this large array and display it so that each number appears\n",
        "on a separate line.\n",
        "\"\"\"\n",
        "user_numbers = []\n",
        "for i in range(3):\n",
        "    num = int(input(\"Enter a number: \"))\n",
        "    user_numbers.append(num)\n",
        "\n",
        "random_numbers = [random.randint(1, 100) for _ in range(5)]\n",
        "large_array = user_numbers + random_numbers\n",
        "large_array.sort()\n",
        "\n",
        "print(\"Sorted array:\")\n",
        "for num in large_array:\n",
        "    print(num)\n"
      ],
      "metadata": {
        "colab": {
          "base_uri": "https://localhost:8080/"
        },
        "id": "QneAfGUgIME4",
        "outputId": "25f2b410-f4b8-4577-d3da-307c5605293b"
      },
      "execution_count": null,
      "outputs": [
        {
          "output_type": "stream",
          "name": "stdout",
          "text": [
            "Enter a number: 4\n",
            "Enter a number: 23\n",
            "Enter a number: 6\n",
            "Sorted array:\n",
            "4\n",
            "6\n",
            "10\n",
            "23\n",
            "26\n",
            "53\n",
            "62\n",
            "65\n"
          ]
        }
      ]
    },
    {
      "cell_type": "code",
      "source": [
        "#Problem 6\n",
        "\"\"\"\n",
        "Create an array of five numbers between 10 and 100 which each have\n",
        "two decimal places. Ask the user to enter a whole number between 2 and 5.\n",
        "If they enter something outside of that range, display a suitable error message\n",
        "and ask them to try again until they enter a valid amount. Divide each of the\n",
        "numbers in the array by the number the user entered and display the answers\n",
        "shown to two decimal places\n",
        "\"\"\"\n",
        "import math\n",
        "\n",
        "numbers = [Decimal(round(10 + i, 2)) for i in range(0, 91, 18)]\n",
        "\n",
        "while True:\n",
        "    divisor = int(input(\"Enter a whole number between 2 and 5: \"))\n",
        "    if 2 <= divisor <= 5:\n",
        "        break\n",
        "    else:\n",
        "        print(\"Error: Please enter a number between 2 and 5.\")\n",
        "\n",
        "print(\"Answers:\")\n",
        "for num in numbers:\n",
        "    result = num / divisor\n",
        "    # Using ROUND_HALF_UP rounding mode to ensure two decimal places\n",
        "    result = result.quantize(Decimal('0.00'), rounding=ROUND_HALF_UP)\n",
        "    print(result)\n"
      ],
      "metadata": {
        "colab": {
          "base_uri": "https://localhost:8080/"
        },
        "id": "ALDzEzgxIs2N",
        "outputId": "4d6e0424-24e3-405f-ba43-b820be02baf2"
      },
      "execution_count": null,
      "outputs": [
        {
          "output_type": "stream",
          "name": "stdout",
          "text": [
            "Enter a whole number between 2 and 5: 4\n",
            "Answers:\n",
            "2.50\n",
            "7.00\n",
            "11.50\n",
            "16.00\n",
            "20.50\n",
            "25.00\n"
          ]
        }
      ]
    },
    {
      "cell_type": "markdown",
      "source": [
        "**Challenges - 2D List and Dictionaries**"
      ],
      "metadata": {
        "id": "-y-qFt5NJe35"
      }
    },
    {
      "cell_type": "code",
      "source": [
        "#Problem 1\n",
        "\"\"\"\n",
        "Create the following using a simple 2D list using the\n",
        "standard Python indexing\n",
        "\"\"\"\n",
        "list_2D = [\n",
        "    [2,5, 8], [3, 7,4], [1,6,9], [4,2,0]\n",
        "          ]\n",
        "for row in list_2D:\n",
        "    print(row)"
      ],
      "metadata": {
        "id": "KkDFzGkWJVd5",
        "colab": {
          "base_uri": "https://localhost:8080/"
        },
        "outputId": "fe4c230b-c57b-478d-be2b-759e3b0d349a"
      },
      "execution_count": null,
      "outputs": [
        {
          "output_type": "stream",
          "name": "stdout",
          "text": [
            "[2, 5, 8]\n",
            "[3, 7, 4]\n",
            "[1, 6, 9]\n",
            "[4, 2, 0]\n"
          ]
        }
      ]
    },
    {
      "cell_type": "code",
      "source": [
        "#Problem 2\n",
        "\"\"\"\n",
        "Using the 2D list from program 1, ask the user to\n",
        "select a row and a column and display that value.  \"\"\"\n",
        "list_2D = [\n",
        "    [2,5, 8], [3, 7,4], [1,6,9], [4,2,0]\n",
        "          ]\n",
        "for row in list_2D:\n",
        "    print(row)\n",
        "user_1 = int(input(\"Select a row: \"))\n",
        "user_2 = int(input(\"Select a coulmn: \"))\n",
        "print(list_2D[user_1][user_2])"
      ],
      "metadata": {
        "colab": {
          "base_uri": "https://localhost:8080/"
        },
        "id": "s-6bC9Nb0d3l",
        "outputId": "a29d2048-3b5c-4b19-f009-c0d05a824360"
      },
      "execution_count": null,
      "outputs": [
        {
          "output_type": "stream",
          "name": "stdout",
          "text": [
            "[2, 5, 8]\n",
            "[3, 7, 4]\n",
            "[1, 6, 9]\n",
            "[4, 2, 0]\n",
            "Select a row: 3\n",
            "Select a coulmn: 2\n",
            "0\n"
          ]
        }
      ]
    },
    {
      "cell_type": "code",
      "source": [
        "#Problem 3\n",
        "\"\"\"\n",
        "Using the 2D list from program 1, ask the user which row they would like displayed and display\n",
        "just that row. Ask them to enter a new value and add it to the end of the row and display the row\n",
        "again. \"\"\"\n",
        "list_2D = [\n",
        "    [2,5, 8], [3, 7,4], [1,6,9], [4,2,0]\n",
        "          ]\n",
        "for row in list_2D:\n",
        "    print(row)\n",
        "user_1 = int(input(\"Select a row to display: \"))\n",
        "print(list_2D[user_1])\n",
        "user_2 = int(input(\"Enter a number to add to the row: \"))\n",
        "list_2D[user_1].append(user_2)\n",
        "print(list_2D[user_1])"
      ],
      "metadata": {
        "colab": {
          "base_uri": "https://localhost:8080/"
        },
        "id": "ZcQLO0qs3ZOu",
        "outputId": "553fc49a-e63d-4d11-ce5d-3e8604d0f0ab"
      },
      "execution_count": null,
      "outputs": [
        {
          "output_type": "stream",
          "name": "stdout",
          "text": [
            "[2, 5, 8]\n",
            "[3, 7, 4]\n",
            "[1, 6, 9]\n",
            "[4, 2, 0]\n",
            "Select a row to display: 2\n",
            "[1, 6, 9]\n",
            "Enter a number to add to the row: 3\n",
            "[1, 6, 9, 3]\n"
          ]
        }
      ]
    },
    {
      "cell_type": "code",
      "source": [
        "#Problem 4\n",
        "\"\"\"\n",
        "Change your previous program to ask the user which row they\n",
        "want displayed. Display that row. Ask which column in that\n",
        "row they want displayed and display the value that is held\n",
        "there. Ask the user if they want to change the value. If they do,\n",
        "ask for a new value and change the data. Finally, display the\n",
        "whole row again.\"\"\"\n",
        "list_2D = [\n",
        "    [2,5, 8], [3, 7,4], [1,6,9], [4,2,0]\n",
        "          ]\n",
        "for row in list_2D:\n",
        "    print(row)\n",
        "user_1 = int(input(\"Select a row to display: \"))\n",
        "print(list_2D[user_1])\n",
        "\n",
        "user_2 = int(input(\"Select a column in the row to display: \"))\n",
        "print(list_2D[user_1][user_2])\n",
        "\n",
        "ask = input(\"Do you want to change the value? Yes/No: \").lower()\n",
        "if ask == \"yes\":\n",
        "      ask_1 = int(input(\"Enter the new value: \"))\n",
        "      list_2D[user_1][user_2] = ask_1\n",
        "      print(list_2D[user_1])\n",
        "\n",
        "else:\n",
        "     print(\"Thank you!\")\n",
        "\n"
      ],
      "metadata": {
        "colab": {
          "base_uri": "https://localhost:8080/"
        },
        "id": "IU1VKJBM5Xut",
        "outputId": "73ef1b74-cccf-466b-ed39-cf9427a11d41"
      },
      "execution_count": null,
      "outputs": [
        {
          "output_type": "stream",
          "name": "stdout",
          "text": [
            "[2, 5, 8]\n",
            "[3, 7, 4]\n",
            "[1, 6, 9]\n",
            "[4, 2, 0]\n",
            "Select a row to display: 3\n",
            "[4, 2, 0]\n",
            "Select a column in the row to display: 2\n",
            "0\n",
            "Do you want to change the value? Yes/No: yes\n",
            "Enter the new value: 3\n",
            "[4, 2, 3]\n"
          ]
        }
      ]
    },
    {
      "cell_type": "code",
      "source": [
        "#Problem 5\n",
        "\"\"\"\n",
        "Create the following using a 2D dictionary showing\n",
        "the sales each person has made in the different\n",
        "geographical regions\"\"\"\n",
        "list = {\"John\": {\"N\": 3056, \"S\": 8463, \"E\": 8441, \"W\": 2694},\n",
        "        \"Tom\":   {\"N\": 4832, \"S\": 6786, \"E\": 4737, \"W\": 3612},\n",
        "        \"Anne\":   {\"N\": 5239, \"S\": 4802, \"E\": 5820, \"W\": 1859},\n",
        "        \"Fiona\":   {\"N\": 3904, \"S\": 3645, \"E\": 8821, \"W\": 2451}\n",
        "        }\n",
        "print(\"Sales\", \"     N\", \"      S\", \"      E\", \"      W\")\n",
        "for name, values in list.items():\n",
        "    print(\"{:<7}\".format(name), end=\" \")\n",
        "    for val in values.values():\n",
        "        print(\"{:7}\".format(str(val).rjust(5)), end=\" \")\n",
        "    print()"
      ],
      "metadata": {
        "colab": {
          "base_uri": "https://localhost:8080/"
        },
        "id": "zgBMj7Qm9ORK",
        "outputId": "e5e8be26-cf24-4f36-a26a-7b3ed3f99a4d"
      },
      "execution_count": null,
      "outputs": [
        {
          "output_type": "stream",
          "name": "stdout",
          "text": [
            "Sales      N       S       E       W\n",
            "John     3056    8463    8441    2694   \n",
            "Tom      4832    6786    4737    3612   \n",
            "Anne     5239    4802    5820    1859   \n",
            "Fiona    3904    3645    8821    2451   \n"
          ]
        }
      ]
    },
    {
      "cell_type": "code",
      "source": [
        "#Problem 6\n",
        "\"\"\"\n",
        "Using program 5, ask the user for a name and a region. Display the relevant data. Ask\n",
        "the user for the name and region of data they want to change and allow them to make\n",
        "the alteration to the sales figure. Display the sales for all regions for the name they\n",
        "choose. \"\"\"\n",
        "list = {\"John\": {\"N\": 3056, \"S\": 8463, \"E\": 8441, \"W\": 2694},\n",
        "        \"Tom\":   {\"N\": 4832, \"S\": 6786, \"E\": 4737, \"W\": 3612},\n",
        "        \"Anne\":   {\"N\": 5239, \"S\": 4802, \"E\": 5820, \"W\": 1859},\n",
        "        \"Fiona\":   {\"N\": 3904, \"S\": 3645, \"E\": 8821, \"W\": 2451}\n",
        "        }\n",
        "print(\"Sales\", \"     N\", \"      S\", \"      E\", \"      W\")\n",
        "for name, values in list.items():\n",
        "    print(\"{:<7}\".format(name), end=\" \")\n",
        "    for val in values.values():\n",
        "        print(\"{:7}\".format(str(val).rjust(5)), end=\" \")\n",
        "    print()\n",
        "ask = input(\"Enter the Name od salesperson: \").capitalize()\n",
        "ask_1 = input(\"Enter the Region: \").capitalize()\n",
        "print(list[ask][ask_1])\n",
        "newdata= int(input(\"Enter new data points: \"))\n",
        "list[ask][ask_1]= newdata\n",
        "print(list[ask])\n",
        "\n",
        "\n"
      ],
      "metadata": {
        "colab": {
          "base_uri": "https://localhost:8080/"
        },
        "id": "hf2LvlB8BaI_",
        "outputId": "504372e4-f664-4023-ff9b-28b2caf1b223"
      },
      "execution_count": null,
      "outputs": [
        {
          "output_type": "stream",
          "name": "stdout",
          "text": [
            "Sales      N       S       E       W\n",
            "John     3056    8463    8441    2694   \n",
            "Tom      4832    6786    4737    3612   \n",
            "Anne     5239    4802    5820    1859   \n",
            "Fiona    3904    3645    8821    2451   \n",
            "Enter the Name od salesperson: tom\n",
            "Enter the Region: w\n",
            "3612\n",
            "Enter new data points: 8956\n",
            "{'N': 4832, 'S': 6786, 'E': 4737, 'W': 8956}\n"
          ]
        }
      ]
    },
    {
      "cell_type": "code",
      "source": [
        "#Problem 7\n",
        "\"\"\"\n",
        "Ask the user to enter the name, age and shoe size for four\n",
        "people. Ask for the name of one of the people in the list and\n",
        "display their age and shoe size.\n",
        "\"\"\"\n",
        "people_info = {}\n",
        "for i in range(4):\n",
        "    name = input(\"Enter the name of person {}: \".format(i + 1))\n",
        "    age = input(\"Enter the age of person {}: \".format(i + 1))\n",
        "    shoe_size = input(\"Enter the shoe size of person {}: \".format(i + 1))\n",
        "    people_info[name] = {\"age\": age, \"shoe_size\": shoe_size}\n",
        "\n",
        "person_name = input(\"Enter the name of the person you want to look up: \")\n",
        "print(people_info[person_name])"
      ],
      "metadata": {
        "colab": {
          "base_uri": "https://localhost:8080/"
        },
        "id": "4kRsTqrEIKfh",
        "outputId": "2697b0d4-4dda-4718-ad3e-8339b1cb55f4"
      },
      "execution_count": null,
      "outputs": [
        {
          "output_type": "stream",
          "name": "stdout",
          "text": [
            "Enter the name of person 1: Ron\n",
            "Enter the age of person 1: 12\n",
            "Enter the shoe size of person 1: 19\n",
            "Enter the name of person 2: Eron\n",
            "Enter the age of person 2: 45\n",
            "Enter the shoe size of person 2: 47\n",
            "Enter the name of person 3: Eve\n",
            "Enter the age of person 3: 35\n",
            "Enter the shoe size of person 3: 30\n",
            "Enter the name of person 4: Erik\n",
            "Enter the age of person 4: 56\n",
            "Enter the shoe size of person 4: 46\n",
            "Enter the name of the person you want to look up: Erik\n",
            "{'age': '56', 'shoe_size': '46'}\n"
          ]
        }
      ]
    },
    {
      "cell_type": "code",
      "source": [
        "#Problem 8\n",
        "people_info = {}\n",
        "for i in range(4):\n",
        "    name = input(\"Enter the name of person {}: \".format(i + 1))\n",
        "    age = input(\"Enter the age of person {}: \".format(i + 1))\n",
        "    shoe_size = input(\"Enter the shoe size of person {}: \".format(i + 1))\n",
        "    people_info[name] = {\"age\": age, \"shoe_size\": shoe_size}\n",
        "for name in people_info:\n",
        "  print((name), people_info[name][\"age\"])"
      ],
      "metadata": {
        "colab": {
          "base_uri": "https://localhost:8080/"
        },
        "id": "u3AmqJgSOodm",
        "outputId": "b8e4baeb-af21-48a0-d4cc-d725f91eeb76"
      },
      "execution_count": null,
      "outputs": [
        {
          "output_type": "stream",
          "name": "stdout",
          "text": [
            "Enter the name of person 1: Erik\n",
            "Enter the age of person 1: 34\n",
            "Enter the shoe size of person 1: 39\n",
            "Enter the name of person 2: Ron\n",
            "Enter the age of person 2: 45\n",
            "Enter the shoe size of person 2: 40\n",
            "Enter the name of person 3: Dove\n",
            "Enter the age of person 3: 23\n",
            "Enter the shoe size of person 3: 39\n",
            "Enter the name of person 4: Rose\n",
            "Enter the age of person 4: 3\n",
            "Enter the shoe size of person 4: 1\n",
            "Erik 34\n",
            "Ron 45\n",
            "Dove 23\n",
            "Rose 3\n"
          ]
        }
      ]
    },
    {
      "cell_type": "markdown",
      "source": [
        "**Challenge - Reading and Writing to a Text File**"
      ],
      "metadata": {
        "id": "aSrWhW6rRDfU"
      }
    },
    {
      "cell_type": "code",
      "source": [
        "#Problem 1\n",
        "\"\"\"\n",
        "Write a new file called “Numbers.txt”. Add five numbers\n",
        "to the document which are stored on the same line and only\n",
        "separated by a comma. Once you have run the program, look in\n",
        "the location where your program is stored and you should see that\n",
        "the file has been created. The easiest way to view the contents\n",
        "of the new text file on a Windows system is to read it using Notepad.\n",
        "\"\"\"\n",
        "file = open(\"Numbere.txt\", \"w\")\n",
        "file.write(\"3,  \")\n",
        "file.write(\"7,  \")\n",
        "file.write(\"0,  \")\n",
        "file.write(\"8,  \")\n",
        "file.write(\"2,  \")\n",
        "file.close()"
      ],
      "metadata": {
        "id": "BtqMNvMJQRhb"
      },
      "execution_count": null,
      "outputs": []
    },
    {
      "cell_type": "code",
      "source": [
        "#Problem 2\n",
        "\"\"\"\n",
        "Create a new file called “Names.txt”. Add five names to the\n",
        "document, which are stored on separate lines. Once you have\n",
        "run the program, look in the location where your program is\n",
        "stored and check that the file has been created properly. \"\"\"\n",
        "\n",
        "names = [\"Alice\", \"Bob\", \"Charlie\", \"David\", \"Eve\"]\n",
        "with open(\"Names.txt\", \"w\") as file:\n",
        "    for name in names:\n",
        "        file.write(name + '\\n')\n",
        "\n"
      ],
      "metadata": {
        "id": "7GUq-SKfx2D_"
      },
      "execution_count": null,
      "outputs": []
    },
    {
      "cell_type": "code",
      "source": [
        "#Problem 3\n",
        "\"\"\"\n",
        "Open the Names.txt file and\n",
        "display the data Python.\n",
        "\"\"\"\n",
        "file = open(\"Names.txt\", \"r\")\n",
        "print(file.read())\n",
        "file.close()"
      ],
      "metadata": {
        "colab": {
          "base_uri": "https://localhost:8080/"
        },
        "id": "Ei7RrjSjzwOU",
        "outputId": "fb8277a3-6984-4d01-fd9d-2c92d7cbe9a2"
      },
      "execution_count": null,
      "outputs": [
        {
          "output_type": "stream",
          "name": "stdout",
          "text": [
            "Alice\n",
            "Bob\n",
            "Charlie\n",
            "David\n",
            "Eve\n",
            "\n"
          ]
        }
      ]
    },
    {
      "cell_type": "code",
      "source": [
        "#Problem 4\n",
        "\"\"\"\n",
        "Open the Names.txt file. Ask the user to input a\n",
        "new name. Add this to the end of the file and\n",
        "display the entire file. \"\"\"\n",
        "\n",
        "file = open(\"Names.txt\", \"a\")\n",
        "user =input(\"Enter a new name: \")\n",
        "file.write(user + \"\\n\")\n",
        "file.close()\n",
        "\n",
        "file = open(\"Names.txt\", \"r\")\n",
        "print(file.read())\n",
        "file.close()"
      ],
      "metadata": {
        "colab": {
          "base_uri": "https://localhost:8080/"
        },
        "id": "qa4pB42m09-R",
        "outputId": "5de8fd18-fb29-40f7-881c-a3e305974325"
      },
      "execution_count": null,
      "outputs": [
        {
          "output_type": "stream",
          "name": "stdout",
          "text": [
            "Enter a new name: Jean\n",
            "Alice\n",
            "Bob\n",
            "Charlie\n",
            "David\n",
            "Eve\n",
            "Jean\n",
            "Jean\n",
            "\n"
          ]
        }
      ]
    },
    {
      "cell_type": "code",
      "source": [
        "#Problem 5\n",
        "\n",
        "print(\"1)Create a new file.\\n2)Display the file.\\n3)Add a new file to the file.\")\n",
        "user = int(input(\"Enter a selection 1, 2, 3: \"))\n",
        "if user == 1:\n",
        "  with open(\"subject.txt\", \"w\") as file:\n",
        "    ask = input(\"Enter a school subject: \" )\n",
        "    file.write(ask + \"\\n\")\n",
        "    file.close()\n",
        "elif user == 2:\n",
        "  with open(\"subject.txt\", \"r\") as file:\n",
        "        print(file.read())\n",
        "elif user == 3:\n",
        "    with open(\"subject.txt\", \"a\") as file:\n",
        "        ask_1 = input(\"Enter a new school subject: \" )\n",
        "        file.write(ask_1 + \"\\n\")\n",
        "        file.close()\n",
        "        with open(\"subject.txt\", \"r\") as file:\n",
        "            print(file.read())\n",
        "else:\n",
        "  print(\"Invalid option!\")\n"
      ],
      "metadata": {
        "colab": {
          "base_uri": "https://localhost:8080/"
        },
        "id": "bh_NaLZz10ew",
        "outputId": "2ffb8ef6-6d26-4b42-b9ae-52214a954ad3"
      },
      "execution_count": null,
      "outputs": [
        {
          "output_type": "stream",
          "name": "stdout",
          "text": [
            "1)Create a new file.\n",
            "2)Display the file.\n",
            "3)Add a new file to the file.\n",
            "Enter a selection 1, 2, 3: 3\n",
            "Enter a new school subject: French\n",
            "Mathematics\n",
            "Mathematics\n",
            "French\n",
            "\n"
          ]
        }
      ]
    },
    {
      "cell_type": "code",
      "source": [
        "#Problem 6\n",
        "\"\"\"\n",
        "Using the Names.txt file you created earlier, display the list of\n",
        "names in Python. Ask the user to type in one of the names and then\n",
        "save all the names except the one they entered into a new file called\n",
        "Names2.txt. \"\"\"\n",
        "23\n",
        "with open(\"Names.txt\", \"r\") as file:\n",
        "    names = file.readlines()\n",
        "\n",
        "# Display the list of names\n",
        "print(\"List of names:\")\n",
        "for name in names:\n",
        "    print(name.strip())\n",
        "\n",
        "# Ask the user to input a name to exclude\n",
        "name_to_exclude = input(\"Enter the name you want to exclude: \").strip()\n",
        "\n",
        "# Create a new list of names excluding the one provided by the user\n",
        "filtered_names = [name for name in names if name.strip() != name_to_exclude]\n",
        "\n",
        "# Write the filtered names to Names2.txt\n",
        "with open(\"Names2.txt\", \"w\") as file:\n",
        "    file.writelines(filtered_names)\n",
        "\n",
        "print(\"Filtered names have been saved to Names2.txt.\")\n"
      ],
      "metadata": {
        "colab": {
          "base_uri": "https://localhost:8080/"
        },
        "id": "YaUnJObt4DkP",
        "outputId": "559373eb-30ee-4ea3-8d82-a37d6a29c445"
      },
      "execution_count": null,
      "outputs": [
        {
          "output_type": "stream",
          "name": "stdout",
          "text": [
            "List of names:\n",
            "Alice\n",
            "Bob\n",
            "Charlie\n",
            "David\n",
            "Eve\n",
            "Enter the name you want to exclude: Eve\n",
            "Filtered names have been saved to Names2.txt.\n"
          ]
        }
      ]
    },
    {
      "cell_type": "markdown",
      "source": [
        "**Challenges - Reading and Writing to a .csv file**\n",
        "import csv\n",
        "file = list(csv.reader(open(“Stars.csv”)))\n",
        "tmp = []\n",
        "for row in file:\n",
        " tmp.append(row)\n",
        "A .csv file cannot be altered, only added to. If you need to alter the file you need to\n",
        "write it to a temporary list. This block of code will read the original .csv file and write it\n",
        "to a list called “tmp”. This can then be used and altered as a list"
      ],
      "metadata": {
        "id": "wbmRUI40842j"
      }
    },
    {
      "cell_type": "code",
      "source": [
        "#Problem 1\n",
        "\"\"\"\n",
        "Create a .csv file that will store the following data. Call it “Books.csv.\n",
        "\"\"\"\n",
        "import csv\n",
        "\n",
        "# Data to be stored in the CSV file\n",
        "data = [\n",
        "    [\"Title\", \"Author\", \"Genre\", \"Year Published\"],\n",
        "    [\"To Kill a Mockingbird\", \"Harper Lee\", \"Fiction\", 1960],\n",
        "    [\"A Brief History of Time\", \"Stephen Hawking\", \"Science\", 1988],\n",
        "    [\"Pride and Prejudice\", \"Jane Austen\", \"Romance\", 1813],\n",
        "    [\"The Great Gatsby\", \"F. Scott Fitzgerald\", \"Classics\", 1922],\n",
        "    [\"The Man Who Mistook His Wife for a Hat\", \"Oliver Sacks\", \"Psychology\", 1985]\n",
        "]\n",
        "\n",
        "# Write the data to the CSV file\n",
        "with open(\"Books.csv\", \"w\", newline='') as file:\n",
        "    writer = csv.writer(file)\n",
        "    writer.writerows(data)\n",
        "\n",
        "print(\"Books.csv has been created with the provided data.\")\n"
      ],
      "metadata": {
        "id": "mqKAoWQ083Yj",
        "colab": {
          "base_uri": "https://localhost:8080/"
        },
        "outputId": "99fd0917-363a-494d-9b7f-0c5698148475"
      },
      "execution_count": null,
      "outputs": [
        {
          "output_type": "stream",
          "name": "stdout",
          "text": [
            "Books.csv has been created with the provided data.\n"
          ]
        }
      ]
    },
    {
      "cell_type": "code",
      "source": [
        "#Problem 2\n",
        "\"\"\"\n",
        "Using the Books.csv file from program 111, ask\n",
        "the user to enter another record and add it to the\n",
        "end of the file. Display each row of the .csv file\n",
        "on a separate line.\"\"\"\n",
        "\n",
        "with open(\"Books.csv\", \"a\") as file:\n",
        "     print(\"Add a new book\")\n",
        "     title = input(\"Enter Title:\")\n",
        "     author = input(\"Enter Author name:\")\n",
        "     genre = input(\"Enter Genre:\")\n",
        "     year = input(\"Enter year published:\")\n",
        "     new_data = title +\",\" + author + \",\" + genre + \",\" + year + \"\\n\"\n",
        "     file.write(str(new_data))\n",
        "\n",
        "with open(\"Books.csv\", \"r\") as file:\n",
        "  for row in file:\n",
        "    print(row)"
      ],
      "metadata": {
        "id": "JVLOYWly81pC",
        "colab": {
          "base_uri": "https://localhost:8080/"
        },
        "outputId": "0beb4b22-5282-428e-8d71-e13af733b854"
      },
      "execution_count": null,
      "outputs": [
        {
          "output_type": "stream",
          "name": "stdout",
          "text": [
            "Add a new book\n",
            "Enter Title:Romance at The Peak\n",
            "Enter Author name:Jean Munroe\n",
            "Enter Genre:Fiction\n",
            "Enter year published:1999\n",
            "Title,Author,Genre,Year Published\n",
            "\n",
            "To Kill a Mockingbird,Harper Lee,Fiction,1960\n",
            "\n",
            "A Brief History of Time,Stephen Hawking,Science,1988\n",
            "\n",
            "Pride and Prejudice,Jane Austen,Romance,1813\n",
            "\n",
            "The Great Gatsby,F. Scott Fitzgerald,Classics,1922\n",
            "\n",
            "The Man Who Mistook His Wife for a Hat,Oliver Sacks,Psychology,1985\n",
            "\n",
            "Romance at The Peak,Jean Munroe,Fiction,,1999\n",
            "\n"
          ]
        }
      ]
    },
    {
      "cell_type": "code",
      "source": [
        "#Problem 3\n",
        "\"\"\"\n",
        "Using the Books.csv file, ask the user how many records\n",
        "they want to add to the list and then allow them to add\n",
        "that many. After all the data has been added, ask for an\n",
        "author and display all the books in the list by that author.\n",
        "If there are no books by that author in the list, display a\n",
        "suitable message.\n",
        "\"\"\"\n",
        "user = int(input(\"How many records do you want to add to the list: \"))\n",
        "with open(\"Books.csv\", \"a\") as file:\n",
        "  for i in range(0, user):\n",
        "    print(\"Add a new book!\")\n",
        "    title = input(\"Enter Title:\")\n",
        "    author = input(\"Enter Author name:\")\n",
        "    genre = input(\"Enter Genre:\")\n",
        "    year = input(\"Enter year published:\")\n",
        "    new_data = title +\",\" + author + \",\" + genre + \",\" + year + \"\\n\"\n",
        "    file.write(str(new_data))\n",
        "\n",
        "author_search = input(\"Enter the author name you are looking for: \")\n",
        "with open(\"Books.csv\", \"r\") as file:\n",
        "  count = 0\n",
        "  for _ in file:\n",
        "    if author_search in str(_):\n",
        "      print(_)\n",
        "      count += 1\n",
        "  if count == 0:\n",
        "    print(\"There is no book by this author in the list.\")"
      ],
      "metadata": {
        "id": "jRs-fcbt8wCt",
        "colab": {
          "base_uri": "https://localhost:8080/"
        },
        "outputId": "831db908-0031-4321-a8ca-5d23c6a77197"
      },
      "execution_count": null,
      "outputs": [
        {
          "output_type": "stream",
          "name": "stdout",
          "text": [
            "How many records do you want to add to the list: 2\n",
            "Add a new book!\n",
            "Enter Title:Doom at your Service\n",
            "Enter Author name:Guan Tye\n",
            "Enter Genre:Fiction\n",
            "Enter year published:2009\n",
            "Add a new book!\n",
            "Enter Title:Life of Jean\n",
            "Enter Author name:Jean Munroe\n",
            "Enter Genre:Novel\n",
            "Enter year published:2017\n",
            "Enter the author name you are looking for: Jean Munroe\n",
            "Romance at The Peak,Jean Munroe,Fiction,,1999\n",
            "\n",
            "Life of Jean,Jean Munroe,Novel,,2017\n",
            "\n"
          ]
        }
      ]
    },
    {
      "cell_type": "code",
      "source": [
        "#Problem 4\n",
        "\"\"\"\n",
        "Using the Books.csv file, ask the user to enter a starting year and an end\n",
        "year. Display all books released between those two years.\n",
        "\"\"\"\n",
        "\n",
        "# Ask the user to enter starting and ending years\n",
        "start_year = int(input(\"Enter the starting year: \"))\n",
        "end_year = int(input(\"Enter the ending year: \"))\n",
        "\n",
        "file = list(csv.reader(open(\"Books.csv\")))\n",
        "tmp = []\n",
        "\n",
        "for i in file:\n",
        "  tmp.append(i)\n",
        "new = 0\n",
        "for i in tmp:\n",
        "  if int(tmp[new][3]) >= start_year and int(tmp[new][3]):\n",
        "      print(tmp[new])\n",
        "  new += 1\n"
      ],
      "metadata": {
        "colab": {
          "base_uri": "https://localhost:8080/",
          "height": 245
        },
        "id": "NIPuvpT0y5VW",
        "outputId": "082968ba-75e1-44da-e50a-3e93132fd080"
      },
      "execution_count": null,
      "outputs": [
        {
          "name": "stdout",
          "output_type": "stream",
          "text": [
            "Enter the starting year: 1998\n",
            "Enter the ending year: 2009\n"
          ]
        },
        {
          "output_type": "error",
          "ename": "ValueError",
          "evalue": "invalid literal for int() with base 10: ''",
          "traceback": [
            "\u001b[0;31m---------------------------------------------------------------------------\u001b[0m",
            "\u001b[0;31mValueError\u001b[0m                                Traceback (most recent call last)",
            "\u001b[0;32m<ipython-input-38-4866e785f332>\u001b[0m in \u001b[0;36m<cell line: 25>\u001b[0;34m()\u001b[0m\n\u001b[1;32m     25\u001b[0m \u001b[0;32mfor\u001b[0m \u001b[0mi\u001b[0m \u001b[0;32min\u001b[0m \u001b[0mtmp\u001b[0m\u001b[0;34m:\u001b[0m\u001b[0;34m\u001b[0m\u001b[0;34m\u001b[0m\u001b[0m\n\u001b[1;32m     26\u001b[0m     \u001b[0;31m# Convert the year to an integer for comparison\u001b[0m\u001b[0;34m\u001b[0m\u001b[0;34m\u001b[0m\u001b[0m\n\u001b[0;32m---> 27\u001b[0;31m     \u001b[0myear\u001b[0m \u001b[0;34m=\u001b[0m \u001b[0mint\u001b[0m\u001b[0;34m(\u001b[0m\u001b[0mtmp\u001b[0m\u001b[0;34m[\u001b[0m\u001b[0mnew\u001b[0m\u001b[0;34m]\u001b[0m\u001b[0;34m[\u001b[0m\u001b[0;36m3\u001b[0m\u001b[0;34m]\u001b[0m\u001b[0;34m)\u001b[0m\u001b[0;34m\u001b[0m\u001b[0;34m\u001b[0m\u001b[0m\n\u001b[0m\u001b[1;32m     28\u001b[0m     \u001b[0;31m# Check if the year falls within the specified range\u001b[0m\u001b[0;34m\u001b[0m\u001b[0;34m\u001b[0m\u001b[0m\n\u001b[1;32m     29\u001b[0m     \u001b[0;32mif\u001b[0m \u001b[0mstart_year\u001b[0m \u001b[0;34m<=\u001b[0m \u001b[0myear\u001b[0m \u001b[0;34m<=\u001b[0m \u001b[0mend_year\u001b[0m\u001b[0;34m:\u001b[0m\u001b[0;34m\u001b[0m\u001b[0;34m\u001b[0m\u001b[0m\n",
            "\u001b[0;31mValueError\u001b[0m: invalid literal for int() with base 10: ''"
          ]
        }
      ]
    },
    {
      "cell_type": "code",
      "source": [
        "#Problem 5\n"
      ],
      "metadata": {
        "id": "vZFyQFVz2Keo"
      },
      "execution_count": null,
      "outputs": []
    }
  ]
}